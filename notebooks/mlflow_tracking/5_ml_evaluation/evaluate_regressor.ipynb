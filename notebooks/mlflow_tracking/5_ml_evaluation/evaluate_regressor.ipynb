{
 "cells": [
  {
   "cell_type": "code",
   "execution_count": 32,
   "metadata": {},
   "outputs": [
    {
     "name": "stderr",
     "output_type": "stream",
     "text": [
      "2024/06/16 17:41:10 INFO mlflow.utils.credentials: Successfully connected to MLflow hosted tracking server! Host: https://adb-3088650010345545.5.azuredatabricks.net.\n"
     ]
    }
   ],
   "source": [
    "import mlflow\n",
    "mlflow.login()"
   ]
  },
  {
   "cell_type": "code",
   "execution_count": 33,
   "metadata": {},
   "outputs": [
    {
     "name": "stdout",
     "output_type": "stream",
     "text": [
      "Experiment already exists\n"
     ]
    },
    {
     "data": {
      "text/plain": [
       "<Experiment: artifact_location='dbfs:/databricks/mlflow-tracking/647309157427879', creation_time=1718576734880, experiment_id='647309157427879', last_update_time=1718577566548, lifecycle_stage='active', name='/Shared/Experiments/Price Prediction California Housing', tags={'mlflow.experiment.sourceName': '/Shared/Experiments/Price Prediction '\n",
       "                                 'California Housing',\n",
       " 'mlflow.experimentType': 'MLFLOW_EXPERIMENT',\n",
       " 'mlflow.note.content': 'California Housing Price Prediction',\n",
       " 'mlflow.ownerEmail': 'manuel.gil-m@outlook.com',\n",
       " 'mlflow.ownerId': '8443236376042681',\n",
       " 'project_name': 'California Housing Price Prediction'}>"
      ]
     },
     "execution_count": 33,
     "metadata": {},
     "output_type": "execute_result"
    }
   ],
   "source": [
    "experiment_name = \"/Shared/Experiments/Price Prediction California Housing\"\n",
    "try:\n",
    "    mlflow.create_experiment(\n",
    "        name = experiment_name,\n",
    "        tags={\n",
    "            \"mlflow.note.content\": \"California Housing Price Prediction\",\n",
    "            \"project_name\": \"California Housing Price Prediction\",\n",
    "        }\n",
    "    )\n",
    "    experiment = mlflow.get_experiment_by_name(experiment_name)\n",
    "except mlflow.exceptions.MlflowException:\n",
    "    print(\"Experiment already exists\")\n",
    "    experiment = mlflow.get_experiment_by_name(experiment_name)\n",
    "mlflow.set_experiment(experiment_name=experiment_name)"
   ]
  },
  {
   "cell_type": "code",
   "execution_count": 34,
   "metadata": {},
   "outputs": [],
   "source": [
    "from sklearn.datasets import fetch_california_housing\n",
    "from sklearn.ensemble import RandomForestRegressor\n",
    "from sklearn.model_selection import train_test_split"
   ]
  },
  {
   "cell_type": "code",
   "execution_count": 35,
   "metadata": {},
   "outputs": [],
   "source": [
    "# load data\n",
    "data = fetch_california_housing(as_frame=True)"
   ]
  },
  {
   "cell_type": "code",
   "execution_count": 36,
   "metadata": {},
   "outputs": [],
   "source": [
    "targets = data.target"
   ]
  },
  {
   "cell_type": "code",
   "execution_count": 37,
   "metadata": {},
   "outputs": [],
   "source": [
    "x_train, x_test, y_train, y_test = train_test_split(data.data, targets, test_size=0.2, random_state=42)\n",
    "\n",
    "# target\n",
    "target =data.target_names[0]\n",
    "\n",
    "# train dataset\n",
    "train_dataset = x_train.copy()\n",
    "train_dataset[target] = y_train\n",
    "\n",
    "# test dataset\n",
    "test_dataset = x_test.copy()\n",
    "test_dataset[target] = y_test"
   ]
  },
  {
   "cell_type": "code",
   "execution_count": 38,
   "metadata": {},
   "outputs": [],
   "source": [
    "# create the pandas dataset for training\n",
    "pd_train_dataset = mlflow.data.from_pandas(df = train_dataset, predictions=None, targets=target)\n",
    "\n",
    "# create the pandas dataset for testing\n",
    "pd_test_dataset = mlflow.data.from_pandas(df = test_dataset, predictions=None, targets=target)"
   ]
  },
  {
   "cell_type": "code",
   "execution_count": 44,
   "metadata": {},
   "outputs": [
    {
     "name": "stdout",
     "output_type": "stream",
     "text": [
      "Run:  3bb8cb130b1d42cb9acade0d08295cfe\n"
     ]
    },
    {
     "name": "stderr",
     "output_type": "stream",
     "text": [
      "c:\\Users\\manue\\projects\\mlflow_for_ml_dev\\.venv\\Lib\\site-packages\\_distutils_hack\\__init__.py:11: UserWarning: Distutils was imported before Setuptools, but importing Setuptools also replaces the `distutils` module in `sys.modules`. This may lead to undesirable behaviors or errors. To avoid these issues, avoid using distutils directly, ensure that setuptools is installed in the traditional way (e.g. not an editable install), and/or make sure that setuptools is always imported before distutils.\n",
      "  warnings.warn(\n",
      "c:\\Users\\manue\\projects\\mlflow_for_ml_dev\\.venv\\Lib\\site-packages\\_distutils_hack\\__init__.py:26: UserWarning: Setuptools is replacing distutils.\n",
      "  warnings.warn(\"Setuptools is replacing distutils.\")\n"
     ]
    },
    {
     "data": {
      "application/vnd.jupyter.widget-view+json": {
       "model_id": "ff2c170a5ad1476d857d73bc7d45ef84",
       "version_major": 2,
       "version_minor": 0
      },
      "text/plain": [
       "Uploading artifacts:   0%|          | 0/10 [00:00<?, ?it/s]"
      ]
     },
     "metadata": {},
     "output_type": "display_data"
    },
    {
     "data": {
      "application/vnd.jupyter.widget-view+json": {
       "model_id": "c0b9f43e9abc4cbd88dc58050f5a0040",
       "version_major": 2,
       "version_minor": 0
      },
      "text/plain": [
       "Downloading artifacts:   0%|          | 0/10 [00:00<?, ?it/s]"
      ]
     },
     "metadata": {},
     "output_type": "display_data"
    },
    {
     "name": "stderr",
     "output_type": "stream",
     "text": [
      "2024/06/16 17:58:53 INFO mlflow.models.evaluation.default_evaluator: Computing model predictions.\n",
      "c:\\Users\\manue\\projects\\mlflow_for_ml_dev\\.venv\\Lib\\site-packages\\sklearn\\metrics\\_regression.py:492: FutureWarning: 'squared' is deprecated in version 1.4 and will be removed in 1.6. To calculate the root mean squared error, use the function'root_mean_squared_error'.\n",
      "  warnings.warn(\n",
      "2024/06/16 17:58:53 INFO mlflow.models.evaluation.default_evaluator: Testing metrics on first row...\n",
      "2024/06/16 17:58:53 INFO mlflow.models.evaluation.default_evaluator: Shap explainer TreeExplainer is used.\n",
      "100%|===================| 1997/2000 [01:53<00:00]        2024/06/16 18:00:46 WARNING mlflow.models.evaluation.default_evaluator: Shap evaluation failed. Reason: ExplainerError('Additivity check failed in TreeExplainer! Please ensure the data matrix you passed to the explainer is the same shape that the model was trained on. If your data shape is correct then please report this on GitHub. This check failed because for one of the samples the sum of the SHAP values was 3.500965, while the model output was 3.369530. If this difference is acceptable you can set check_additivity=False to disable this check.'). Set logging level to DEBUG to see the full traceback.\n"
     ]
    }
   ],
   "source": [
    "rfr = RandomForestRegressor()\n",
    "rfr.fit(x_train, y_train)\n",
    "\n",
    "# get predictions\n",
    "predictions = rfr.predict(x_test)\n",
    "\n",
    "with mlflow.start_run(run_name=\"regressor model\") as run:\n",
    "    print(\"Run: \", run.info.run_id)\n",
    "    # log the model\n",
    "    mlflow.sklearn.log_model(rfr, \"model\", input_example=x_train.head(5))\n",
    "\n",
    "    # log the training dataset\n",
    "    mlflow.log_input(dataset=pd_train_dataset, context=\"Training\")\n",
    "\n",
    "    # log the testing dataset\n",
    "    mlflow.log_input(dataset=pd_test_dataset, context=\"Testing\")\n",
    "\n",
    "    # evaluate the model\n",
    "    model_uri = f\"runs:/{run.info.run_id}/model\"\n",
    "    result = mlflow.evaluate(model = model_uri, data=pd_test_dataset, predictions=None, model_type=\"regressor\")\n"
   ]
  },
  {
   "cell_type": "code",
   "execution_count": null,
   "metadata": {},
   "outputs": [],
   "source": []
  }
 ],
 "metadata": {
  "kernelspec": {
   "display_name": ".venv",
   "language": "python",
   "name": "python3"
  },
  "language_info": {
   "codemirror_mode": {
    "name": "ipython",
    "version": 3
   },
   "file_extension": ".py",
   "mimetype": "text/x-python",
   "name": "python",
   "nbconvert_exporter": "python",
   "pygments_lexer": "ipython3",
   "version": "3.11.8"
  }
 },
 "nbformat": 4,
 "nbformat_minor": 2
}
