{
 "cells": [
  {
   "cell_type": "markdown",
   "metadata": {},
   "source": [
    "```python\n",
    "mlflow.evaluate(model=None, data=None, *, model_type=None, targets=None, predictions=None, dataset_path=None, feature_names=None, evaluators=None, evaluator_config=None, custom_metrics=None, extra_metrics=None, custom_artifacts=None, validation_thresholds=None, baseline_model=None, env_manager='local', model_config=None, baseline_config=None, inference_params=None)\n",
    "```\n"
   ]
  },
  {
   "cell_type": "code",
   "execution_count": null,
   "metadata": {},
   "outputs": [],
   "source": [
    "import mlflow\n",
    "mlflow.login()"
   ]
  },
  {
   "cell_type": "code",
   "execution_count": null,
   "metadata": {},
   "outputs": [],
   "source": [
    "experiment_name = \"/Shared/Experiments/White Wine Quality\"\n",
    "try:\n",
    "    mlflow.create_experiment(\n",
    "        name = experiment_name,\n",
    "        tags={\n",
    "            \"mlflow.note.content\": \"This experiment is for the white wine quality dataset. The goal is to predict the quality of the wine based on the features provided in the dataset.\",\n",
    "            \"project_name\": \"White Wine Quality Prediction\"\n",
    "        }\n",
    "    )\n",
    "    experiment = mlflow.get_experiment_by_name(experiment_name)\n",
    "except mlflow.exceptions.MlflowException:\n",
    "    print(\"Experiment already exists\")\n",
    "    experiment = mlflow.get_experiment_by_name(experiment_name)\n",
    "mlflow.set_experiment(experiment_name=experiment_name)\n"
   ]
  },
  {
   "cell_type": "code",
   "execution_count": null,
   "metadata": {},
   "outputs": [],
   "source": [
    "import pandas as pd\n",
    "\n",
    "from sklearn.model_selection import train_test_split\n",
    "from sklearn.preprocessing import LabelEncoder\n",
    "from sklearn.ensemble import RandomForestClassifier\n",
    "from mlflow.data.pandas_dataset import PandasDataset\n",
    "from sklearn.datasets import load_iris\n",
    "data = load_iris(as_frame=True)\n",
    "\n",
    "# Extract the features and target data separately\n",
    "y = data.target\n",
    "X = data.data\n",
    "\n",
    "# Split the data into training and test sets\n",
    "X_train, X_test, y_train, y_test = train_test_split(\n",
    "    X, y, test_size=0.33, random_state=17\n",
    ")\n",
    "\n",
    "# Create a label encoder object\n",
    "le = LabelEncoder()\n",
    "\n",
    "# Fit an XGBoost binary classifier on the training data split\n",
    "model = RandomForestClassifier()\n",
    "model.fit(X_train, y_train)\n",
    "\n",
    "# Build the Evaluation Dataset from the test set\n",
    "y_test_pred = model.predict(X=X_test)\n",
    "\n",
    "eval_data = X_test\n",
    "eval_data[\"target\"] = y_test\n",
    "\n",
    "\n",
    "# Create the PandasDataset for use in mlflow evaluate\n",
    "pd_dataset = mlflow.data.from_pandas(\n",
    "    eval_data, predictions=None, targets=\"target\"\n",
    ")\n",
    "\n",
    "# Log the Dataset, model, and execute an evaluation run using the configured Dataset\n",
    "with mlflow.start_run() as run:\n",
    "    mlflow.log_input(pd_dataset, context=\"training\")\n",
    "\n",
    "    mlflow.sklearn.log_model(\n",
    "        artifact_path=\"white-wine-rfc\", sk_model=model, input_example=X_test\n",
    "    )\n",
    "\n",
    "    model_uri = f\"runs:/{run.info.run_id}/white-wine-rfc\"\n",
    "    result = mlflow.evaluate(model=model_uri, data=pd_dataset, predictions=None, model_type=\"classifier\")\n"
   ]
  }
 ],
 "metadata": {
  "kernelspec": {
   "display_name": ".venv",
   "language": "python",
   "name": "python3"
  },
  "language_info": {
   "codemirror_mode": {
    "name": "ipython",
    "version": 3
   },
   "file_extension": ".py",
   "mimetype": "text/x-python",
   "name": "python",
   "nbconvert_exporter": "python",
   "pygments_lexer": "ipython3",
   "version": "3.11.8"
  }
 },
 "nbformat": 4,
 "nbformat_minor": 2
}
