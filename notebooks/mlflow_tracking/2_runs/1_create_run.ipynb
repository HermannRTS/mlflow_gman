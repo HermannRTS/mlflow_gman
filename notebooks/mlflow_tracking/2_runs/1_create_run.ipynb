{
 "cells": [
  {
   "cell_type": "markdown",
   "metadata": {},
   "source": [
    "# Runs \n",
    "\n",
    "<div style=\"text-align:center\">\n",
    "    <img src=\"../../images/mlflow_run.jpeg\" alt=\"MLFlow Run\" />\n",
    "</div>\n",
    "\n",
    "\n",
    "A MLflow run is a unit of work in MLflow that represents the execution of a machine learning experiment or a piece of code. It tracks the parameters, metrics, artifacts, and metadata associated with the run. MLflow runs allow you to log and track experiments, compare different runs, and reproduce results. Each run is associated with an experiment and can have multiple tags, parameters, metrics, and artifacts."
   ]
  },
  {
   "cell_type": "markdown",
   "metadata": {},
   "source": [
    "## Creating a MLflow Run\n",
    "\n",
    "### Using start_run\n",
    "\n",
    "```python\n",
    "mlflow.start_run()\n",
    "```"
   ]
  },
  {
   "cell_type": "code",
   "execution_count": 1,
   "metadata": {},
   "outputs": [
    {
     "name": "stderr",
     "output_type": "stream",
     "text": [
      "2024/05/26 09:00:54 INFO mlflow.utils.credentials: Successfully connected to MLflow hosted tracking server! Host: https://adb-3088650010345545.5.azuredatabricks.net.\n"
     ]
    }
   ],
   "source": [
    "import mlflow \n",
    "mlflow.login()"
   ]
  },
  {
   "cell_type": "code",
   "execution_count": 2,
   "metadata": {},
   "outputs": [],
   "source": [
    "experiment_name = \"/Shared/Experiments/creating_runs\"\n",
    "tags = {\"project_name\":\"UNDEFINED\", \"topic\":\"run_management\"}\n",
    "experiment_id = mlflow.create_experiment(name=experiment_name, tags=tags)\n",
    "experiment = mlflow.set_experiment(experiment_name)"
   ]
  },
  {
   "cell_type": "code",
   "execution_count": 3,
   "metadata": {},
   "outputs": [],
   "source": [
    "run_tags = {\"tag1\": \"value1\", \"tag2\": \"value2\"}\n",
    "run = mlflow.start_run(\n",
    "    run_name = \"Run 1\",\n",
    "    experiment_id = experiment.experiment_id,\n",
    "    description=\"This is a run description\",\n",
    "    tags= run_tags\n",
    ")"
   ]
  },
  {
   "cell_type": "code",
   "execution_count": 5,
   "metadata": {},
   "outputs": [
    {
     "data": {
      "text/plain": [
       "{'info': {'artifact_uri': 'dbfs:/databricks/mlflow-tracking/2354118570535035/1be3f35ef3054b59bada6e9c31d7b229/artifacts',\n",
       "  'end_time': None,\n",
       "  'experiment_id': '2354118570535035',\n",
       "  'lifecycle_stage': 'active',\n",
       "  'run_id': '1be3f35ef3054b59bada6e9c31d7b229',\n",
       "  'run_name': 'Run 1',\n",
       "  'run_uuid': '1be3f35ef3054b59bada6e9c31d7b229',\n",
       "  'start_time': 1716732173200,\n",
       "  'status': 'RUNNING',\n",
       "  'user_id': ''},\n",
       " 'data': {'metrics': {},\n",
       "  'params': {},\n",
       "  'tags': {'mlflow.note.content': 'This is a run description',\n",
       "   'mlflow.runName': 'Run 1',\n",
       "   'mlflow.source.name': 'c:\\\\Users\\\\manue\\\\projects\\\\mlflow_for_ml_dev\\\\.venv\\\\Lib\\\\site-packages\\\\ipykernel_launcher.py',\n",
       "   'mlflow.source.type': 'LOCAL',\n",
       "   'mlflow.user': '8443236376042681',\n",
       "   'tag1': 'value1',\n",
       "   'tag2': 'value2'}}}"
      ]
     },
     "execution_count": 5,
     "metadata": {},
     "output_type": "execute_result"
    }
   ],
   "source": [
    "run.to_dictionary()"
   ]
  },
  {
   "cell_type": "code",
   "execution_count": 4,
   "metadata": {},
   "outputs": [
    {
     "name": "stdout",
     "output_type": "stream",
     "text": [
      "<class 'mlflow.tracking.fluent.ActiveRun'>\n"
     ]
    }
   ],
   "source": [
    "active_run = mlflow.active_run()\n",
    "print(type(active_run))"
   ]
  },
  {
   "cell_type": "code",
   "execution_count": 6,
   "metadata": {},
   "outputs": [],
   "source": [
    "mlflow.end_run()"
   ]
  },
  {
   "cell_type": "markdown",
   "metadata": {},
   "source": [
    "#### Using the context Manager"
   ]
  },
  {
   "cell_type": "markdown",
   "metadata": {},
   "source": [
    "\n",
    "> About `mlflow.start_run()`\n",
    "> \n",
    "> The return value of `mlflow.start_run()` can be used as a context manager within a `with` block. Otherwise, you must call `end_run()` to terminate the current run.\n",
    "\n",
    "Example:\n",
    "\n",
    "```python\n",
    "with mlflow.start_run() as run:\n",
    "    print(\"Log metrics and params\")\n",
    "```"
   ]
  },
  {
   "cell_type": "code",
   "execution_count": 7,
   "metadata": {},
   "outputs": [
    {
     "name": "stdout",
     "output_type": "stream",
     "text": [
      "<class 'mlflow.tracking.fluent.ActiveRun'>\n",
      "Active Run:  015f963f3bef4bf990a669c58f2b8488\n",
      "\n",
      " \n",
      "\n",
      "<class 'NoneType'>\n"
     ]
    }
   ],
   "source": [
    "mlflow.end_run() # end the active run to start a new one\n",
    "with mlflow.start_run(run_name=\"Run 2\", experiment_id=experiment.experiment_id) as run:\n",
    "    active_run = mlflow.active_run()\n",
    "    print(type(active_run))  \n",
    "    print(\"Active Run: \", run.info.run_id)\n",
    "    print(\"\\n \\n\")\n",
    "\n",
    "\n",
    "# outside the with block\n",
    "active_run = mlflow.active_run()\n",
    "print(type(active_run))    "
   ]
  },
  {
   "cell_type": "markdown",
   "metadata": {},
   "source": [
    "## Using MlflowClient"
   ]
  },
  {
   "cell_type": "code",
   "execution_count": 8,
   "metadata": {},
   "outputs": [],
   "source": [
    "client = mlflow.MlflowClient()"
   ]
  },
  {
   "cell_type": "code",
   "execution_count": 9,
   "metadata": {},
   "outputs": [],
   "source": [
    "created_run = client.create_run(experiment_id=experiment.experiment_id, run_name=\"test_run\", tags={\"tag1\": \"value1\", \"tag2\": \"value2\"})"
   ]
  },
  {
   "cell_type": "code",
   "execution_count": 10,
   "metadata": {},
   "outputs": [
    {
     "data": {
      "text/plain": [
       "NoneType"
      ]
     },
     "execution_count": 10,
     "metadata": {},
     "output_type": "execute_result"
    }
   ],
   "source": [
    "run = mlflow.active_run()\n",
    "type(run)"
   ]
  },
  {
   "cell_type": "code",
   "execution_count": 11,
   "metadata": {},
   "outputs": [
    {
     "data": {
      "text/plain": [
       "5"
      ]
     },
     "execution_count": 11,
     "metadata": {},
     "output_type": "execute_result"
    }
   ],
   "source": [
    "# Loging to MLflow without an active run will create a new run\n",
    "mlflow.log_param(\"param1\", 5)\n",
    "run = mlflow.active_run()\n",
    "type(run)"
   ]
  },
  {
   "cell_type": "code",
   "execution_count": 14,
   "metadata": {},
   "outputs": [
    {
     "name": "stdout",
     "output_type": "stream",
     "text": [
      "<RunInfo: artifact_uri='dbfs:/databricks/mlflow-tracking/2354118570535035/fdb2eee6a99943a88d54b0d62a28a32e/artifacts', end_time=None, experiment_id='2354118570535035', lifecycle_stage='active', run_id='fdb2eee6a99943a88d54b0d62a28a32e', run_name='popular-quail-822', run_uuid='fdb2eee6a99943a88d54b0d62a28a32e', start_time=1716732278564, status='RUNNING', user_id=''>\n"
     ]
    }
   ],
   "source": [
    "print(run.info)"
   ]
  },
  {
   "cell_type": "markdown",
   "metadata": {},
   "source": [
    "## Updating Run Tags"
   ]
  },
  {
   "cell_type": "code",
   "execution_count": 16,
   "metadata": {},
   "outputs": [],
   "source": [
    "# end the active run to start a new one\n",
    "mlflow.end_run()\n",
    "with mlflow.start_run(run_name=\"Run 3\", experiment_id=experiment.experiment_id) as run:\n",
    "    # set a single tag\n",
    "    mlflow.set_tag(\"tag3\", \"value3\")\n",
    "    \n",
    "    # Set multiple tags\n",
    "    mlflow.set_tags({\"tag4\": \"value4\", \"tag5\": \"value5\"})"
   ]
  },
  {
   "cell_type": "markdown",
   "metadata": {},
   "source": [
    "## Update run description"
   ]
  },
  {
   "cell_type": "code",
   "execution_count": 17,
   "metadata": {},
   "outputs": [],
   "source": [
    "with mlflow.start_run(run_name=\"Run 4\", experiment_id=experiment.experiment_id) as run:\n",
    "    #Update description\n",
    "    mlflow.set_tag(\"mlflow.note.content\", \"This is a new description\")"
   ]
  },
  {
   "cell_type": "code",
   "execution_count": 18,
   "metadata": {},
   "outputs": [],
   "source": [
    "# including markdown\n",
    "with mlflow.start_run(run_name=\"Run 5\", experiment_id=experiment.experiment_id) as run:\n",
    "    #Update description\n",
    "    mlflow.set_tag(\"mlflow.note.content\", \"# This is a new description\")"
   ]
  },
  {
   "cell_type": "markdown",
   "metadata": {},
   "source": [
    "## Retrieve run information"
   ]
  },
  {
   "cell_type": "code",
   "execution_count": 19,
   "metadata": {},
   "outputs": [],
   "source": [
    "run = mlflow.get_run(run_id = run.info.run_id)"
   ]
  },
  {
   "cell_type": "code",
   "execution_count": 21,
   "metadata": {},
   "outputs": [
    {
     "data": {
      "text/plain": [
       "<RunInfo: artifact_uri='dbfs:/databricks/mlflow-tracking/2354118570535035/9ab046ba40314249a51b5fd2e84e4969/artifacts', end_time=1716732557480, experiment_id='2354118570535035', lifecycle_stage='active', run_id='9ab046ba40314249a51b5fd2e84e4969', run_name='Run 5', run_uuid='9ab046ba40314249a51b5fd2e84e4969', start_time=1716732556822, status='FINISHED', user_id=''>"
      ]
     },
     "execution_count": 21,
     "metadata": {},
     "output_type": "execute_result"
    }
   ],
   "source": [
    "run.info"
   ]
  },
  {
   "cell_type": "code",
   "execution_count": 22,
   "metadata": {},
   "outputs": [
    {
     "data": {
      "text/plain": [
       "<RunData: metrics={}, params={}, tags={'mlflow.note.content': '# This is a new description',\n",
       " 'mlflow.runName': 'Run 5',\n",
       " 'mlflow.source.name': 'c:\\\\Users\\\\manue\\\\projects\\\\mlflow_for_ml_dev\\\\.venv\\\\Lib\\\\site-packages\\\\ipykernel_launcher.py',\n",
       " 'mlflow.source.type': 'LOCAL',\n",
       " 'mlflow.user': 'manuel.gil-m@outlook.com'}>"
      ]
     },
     "execution_count": 22,
     "metadata": {},
     "output_type": "execute_result"
    }
   ],
   "source": [
    "run.data"
   ]
  },
  {
   "cell_type": "code",
   "execution_count": 28,
   "metadata": {},
   "outputs": [
    {
     "data": {
      "text/plain": [
       "info {\n",
       "  run_uuid: \"9ab046ba40314249a51b5fd2e84e4969\"\n",
       "  experiment_id: \"2354118570535035\"\n",
       "  run_name: \"Run 5\"\n",
       "  user_id: \"\"\n",
       "  status: FINISHED\n",
       "  start_time: 1716732556822\n",
       "  end_time: 1716732557480\n",
       "  artifact_uri: \"dbfs:/databricks/mlflow-tracking/2354118570535035/9ab046ba40314249a51b5fd2e84e4969/artifacts\"\n",
       "  lifecycle_stage: \"active\"\n",
       "  run_id: \"9ab046ba40314249a51b5fd2e84e4969\"\n",
       "}\n",
       "data {\n",
       "  tags {\n",
       "    key: \"mlflow.note.content\"\n",
       "    value: \"# This is a new description\"\n",
       "  }\n",
       "  tags {\n",
       "    key: \"mlflow.runName\"\n",
       "    value: \"Run 5\"\n",
       "  }\n",
       "  tags {\n",
       "    key: \"mlflow.source.name\"\n",
       "    value: \"c:\\\\Users\\\\manue\\\\projects\\\\mlflow_for_ml_dev\\\\.venv\\\\Lib\\\\site-packages\\\\ipykernel_launcher.py\"\n",
       "  }\n",
       "  tags {\n",
       "    key: \"mlflow.source.type\"\n",
       "    value: \"LOCAL\"\n",
       "  }\n",
       "  tags {\n",
       "    key: \"mlflow.user\"\n",
       "    value: \"manuel.gil-m@outlook.com\"\n",
       "  }\n",
       "}\n",
       "inputs {\n",
       "}"
      ]
     },
     "execution_count": 28,
     "metadata": {},
     "output_type": "execute_result"
    }
   ],
   "source": [
    "run.to_proto()"
   ]
  },
  {
   "cell_type": "code",
   "execution_count": null,
   "metadata": {},
   "outputs": [],
   "source": []
  }
 ],
 "metadata": {
  "kernelspec": {
   "display_name": ".venv",
   "language": "python",
   "name": "python3"
  },
  "language_info": {
   "codemirror_mode": {
    "name": "ipython",
    "version": 3
   },
   "file_extension": ".py",
   "mimetype": "text/x-python",
   "name": "python",
   "nbconvert_exporter": "python",
   "pygments_lexer": "ipython3",
   "version": "3.11.8"
  }
 },
 "nbformat": 4,
 "nbformat_minor": 2
}
