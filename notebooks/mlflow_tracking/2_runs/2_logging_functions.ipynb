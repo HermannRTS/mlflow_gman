{
 "cells": [
  {
   "cell_type": "markdown",
   "metadata": {},
   "source": [
    "# Logging Metrics"
   ]
  },
  {
   "cell_type": "code",
   "execution_count": 1,
   "metadata": {},
   "outputs": [
    {
     "name": "stderr",
     "output_type": "stream",
     "text": [
      "2024/06/10 13:49:00 INFO mlflow.utils.credentials: Successfully connected to MLflow hosted tracking server! Host: https://adb-3088650010345545.5.azuredatabricks.net.\n"
     ]
    }
   ],
   "source": [
    "import mlflow\n",
    "import matplotlib.pyplot as plt\n",
    "mlflow.login()"
   ]
  },
  {
   "cell_type": "code",
   "execution_count": 2,
   "metadata": {},
   "outputs": [
    {
     "name": "stdout",
     "output_type": "stream",
     "text": [
      "Experiment already exists.\n"
     ]
    }
   ],
   "source": [
    "experiment_name = \"/Shared/Experiments/logging_function\"\n",
    "tags = {\"project_name\":\"UNDEFINED\", \"topic\":\"run_management\", \"mlflow.note.content\":\"This experiment is used to test the logging function.\"}\n",
    "try:\n",
    "    experiment_id = mlflow.create_experiment(name = experiment_name, tags = tags)\n",
    "except:\n",
    "    print(\"Experiment already exists.\")    \n",
    "experiment = mlflow.set_experiment(experiment_name)"
   ]
  },
  {
   "cell_type": "code",
   "execution_count": 3,
   "metadata": {},
   "outputs": [
    {
     "name": "stdout",
     "output_type": "stream",
     "text": [
      "Run ID: a6829984b8a24763ae9d40fb57016af1\n"
     ]
    }
   ],
   "source": [
    "with mlflow.start_run(run_name=\"logging_metrics\", experiment_id=experiment.experiment_id) as run:\n",
    "    print(\"Run ID:\", run.info.run_id)\n",
    "\n",
    "    # logging a single metric\n",
    "    mlflow.log_metric(\"m1\", 2.0)\n",
    "\n",
    "    # logging multiple metrics\n",
    "    mlflow.log_metrics({\"m2\": 3.0, \"m3\": 4.0})"
   ]
  },
  {
   "cell_type": "code",
   "execution_count": 4,
   "metadata": {},
   "outputs": [],
   "source": [
    "# Training a deep learning model \n",
    "epochs = 100\n",
    "batch_size = 32\n",
    "import random\n",
    "with mlflow.start_run(run_id=run.info.run_id, experiment_id=experiment.experiment_id) as run:\n",
    "    for epoch in range(1,epochs+1):\n",
    "        acc = 1 - 2 ** -epoch - random.random() / epoch\n",
    "        loss = 2 ** -epoch + random.random() / epoch\n",
    "        mlflow.log_metric(\"accuracy\", acc, step=epoch)\n",
    "        mlflow.log_metric(\"loss\",loss, step = epoch)\n",
    "\n",
    "    # logging a single metric\n",
    "    mlflow.log_metric(\"m1\", 5.0, step=2)\n",
    "\n",
    "    # logging multiple metrics\n",
    "    mlflow.log_metrics({\"m2\": 1.0, \"m3\": 6.0}, step=2)"
   ]
  },
  {
   "cell_type": "code",
   "execution_count": 5,
   "metadata": {},
   "outputs": [],
   "source": [
    "client = mlflow.MlflowClient()"
   ]
  },
  {
   "cell_type": "code",
   "execution_count": 6,
   "metadata": {},
   "outputs": [],
   "source": [
    "# use the client to get the metric history\n",
    "metric_history = client.get_metric_history(run_id = \"9a0bb325d84e4561b90a0a0db0b4d364\", key=\"accuracy\")"
   ]
  },
  {
   "cell_type": "code",
   "execution_count": 7,
   "metadata": {},
   "outputs": [
    {
     "data": {
      "text/plain": [
       "[<Metric: key='accuracy', step=1, timestamp=1717973334334, value=0.23161881348179014>,\n",
       " <Metric: key='accuracy', step=2, timestamp=1717973335014, value=0.5137798415958549>,\n",
       " <Metric: key='accuracy', step=3, timestamp=1717973335525, value=0.5580404151619556>,\n",
       " <Metric: key='accuracy', step=4, timestamp=1717973335987, value=0.8104543247828327>,\n",
       " <Metric: key='accuracy', step=5, timestamp=1717973336427, value=0.8367673962777957>,\n",
       " <Metric: key='accuracy', step=6, timestamp=1717973336865, value=0.9349544257975291>,\n",
       " <Metric: key='accuracy', step=7, timestamp=1717973337306, value=0.9743033653001159>,\n",
       " <Metric: key='accuracy', step=8, timestamp=1717973337759, value=0.9762606921128509>,\n",
       " <Metric: key='accuracy', step=9, timestamp=1717973338204, value=0.9391802969596568>,\n",
       " <Metric: key='accuracy', step=10, timestamp=1717973338656, value=0.9177235117689193>,\n",
       " <Metric: key='accuracy', step=11, timestamp=1717973339131, value=0.9304603582053455>,\n",
       " <Metric: key='accuracy', step=12, timestamp=1717973339565, value=0.9972955012291456>,\n",
       " <Metric: key='accuracy', step=13, timestamp=1717973340017, value=0.9479879755222904>,\n",
       " <Metric: key='accuracy', step=14, timestamp=1717973340472, value=0.9848816880910118>,\n",
       " <Metric: key='accuracy', step=15, timestamp=1717973340906, value=0.9775909688222723>,\n",
       " <Metric: key='accuracy', step=16, timestamp=1717973341332, value=0.9519551686092932>,\n",
       " <Metric: key='accuracy', step=17, timestamp=1717973341771, value=0.9427568185151075>,\n",
       " <Metric: key='accuracy', step=18, timestamp=1717973342232, value=0.9755030820766656>,\n",
       " <Metric: key='accuracy', step=19, timestamp=1717973342676, value=0.9830521649960278>,\n",
       " <Metric: key='accuracy', step=20, timestamp=1717973343138, value=0.9955846493609805>,\n",
       " <Metric: key='accuracy', step=21, timestamp=1717973343596, value=0.9815573627166724>,\n",
       " <Metric: key='accuracy', step=22, timestamp=1717973344024, value=0.9635921301897136>,\n",
       " <Metric: key='accuracy', step=23, timestamp=1717973344477, value=0.9974609497564267>,\n",
       " <Metric: key='accuracy', step=24, timestamp=1717973344950, value=0.985450309431472>,\n",
       " <Metric: key='accuracy', step=25, timestamp=1717973345397, value=0.9916374888599827>,\n",
       " <Metric: key='accuracy', step=26, timestamp=1717973345847, value=0.9647004878658756>,\n",
       " <Metric: key='accuracy', step=27, timestamp=1717973346285, value=0.9671687763995319>,\n",
       " <Metric: key='accuracy', step=28, timestamp=1717973346716, value=0.9921720928394647>,\n",
       " <Metric: key='accuracy', step=29, timestamp=1717973347138, value=0.983755291861666>,\n",
       " <Metric: key='accuracy', step=30, timestamp=1717973347583, value=0.9827810587066477>,\n",
       " <Metric: key='accuracy', step=31, timestamp=1717973348002, value=0.9825821563911009>,\n",
       " <Metric: key='accuracy', step=32, timestamp=1717973348478, value=0.9997477150222256>,\n",
       " <Metric: key='accuracy', step=33, timestamp=1717973348938, value=0.9724255258356529>,\n",
       " <Metric: key='accuracy', step=34, timestamp=1717973349375, value=0.9717081474517043>,\n",
       " <Metric: key='accuracy', step=35, timestamp=1717973349822, value=0.9860238388273019>,\n",
       " <Metric: key='accuracy', step=36, timestamp=1717973350288, value=0.9880296079689449>,\n",
       " <Metric: key='accuracy', step=37, timestamp=1717973350717, value=0.9799449225578462>,\n",
       " <Metric: key='accuracy', step=38, timestamp=1717973351156, value=0.9798468355821199>,\n",
       " <Metric: key='accuracy', step=39, timestamp=1717973351604, value=0.9858083758710527>,\n",
       " <Metric: key='accuracy', step=40, timestamp=1717973352071, value=0.985420681597928>,\n",
       " <Metric: key='accuracy', step=41, timestamp=1717973352519, value=0.9950121384643491>,\n",
       " <Metric: key='accuracy', step=42, timestamp=1717973352968, value=0.9812931042100475>,\n",
       " <Metric: key='accuracy', step=43, timestamp=1717973353405, value=0.997488457488983>,\n",
       " <Metric: key='accuracy', step=44, timestamp=1717973353836, value=0.985073506069636>,\n",
       " <Metric: key='accuracy', step=45, timestamp=1717973354263, value=0.9979584890368652>,\n",
       " <Metric: key='accuracy', step=46, timestamp=1717973354717, value=0.9888066607020902>,\n",
       " <Metric: key='accuracy', step=47, timestamp=1717973355151, value=0.9858426563611531>,\n",
       " <Metric: key='accuracy', step=48, timestamp=1717973355595, value=0.9968624227213698>,\n",
       " <Metric: key='accuracy', step=49, timestamp=1717973356021, value=0.994507856614841>,\n",
       " <Metric: key='accuracy', step=50, timestamp=1717973356448, value=0.9991173193455299>,\n",
       " <Metric: key='accuracy', step=51, timestamp=1717973356915, value=0.9937866538235072>,\n",
       " <Metric: key='accuracy', step=52, timestamp=1717973357339, value=0.982502917555709>,\n",
       " <Metric: key='accuracy', step=53, timestamp=1717973357771, value=0.9915381971470039>,\n",
       " <Metric: key='accuracy', step=54, timestamp=1717973358227, value=0.990353900569631>,\n",
       " <Metric: key='accuracy', step=55, timestamp=1717973358655, value=0.9984193425624479>,\n",
       " <Metric: key='accuracy', step=56, timestamp=1717973359098, value=0.9961356443400149>,\n",
       " <Metric: key='accuracy', step=57, timestamp=1717973359531, value=0.9930091517883038>,\n",
       " <Metric: key='accuracy', step=58, timestamp=1717973359980, value=0.9992772125034741>,\n",
       " <Metric: key='accuracy', step=59, timestamp=1717973360433, value=0.9940583055002924>,\n",
       " <Metric: key='accuracy', step=60, timestamp=1717973360909, value=0.9898456754218355>,\n",
       " <Metric: key='accuracy', step=61, timestamp=1717973361419, value=0.9931003114792428>,\n",
       " <Metric: key='accuracy', step=62, timestamp=1717973361860, value=0.9932374007571358>,\n",
       " <Metric: key='accuracy', step=63, timestamp=1717973362290, value=0.9876358920933942>,\n",
       " <Metric: key='accuracy', step=64, timestamp=1717973362721, value=0.9982297353265595>,\n",
       " <Metric: key='accuracy', step=65, timestamp=1717973363155, value=0.9865254698373658>,\n",
       " <Metric: key='accuracy', step=66, timestamp=1717973363614, value=0.9859135551013655>,\n",
       " <Metric: key='accuracy', step=67, timestamp=1717973364041, value=0.9876226645350856>,\n",
       " <Metric: key='accuracy', step=68, timestamp=1717973364484, value=0.9899828218533196>,\n",
       " <Metric: key='accuracy', step=69, timestamp=1717973364942, value=0.9866223660220146>,\n",
       " <Metric: key='accuracy', step=70, timestamp=1717973365409, value=0.9873585220093575>,\n",
       " <Metric: key='accuracy', step=71, timestamp=1717973365844, value=0.996279073092722>,\n",
       " <Metric: key='accuracy', step=72, timestamp=1717973366318, value=0.9927554597664742>,\n",
       " <Metric: key='accuracy', step=73, timestamp=1717973366797, value=0.9945355824279464>,\n",
       " <Metric: key='accuracy', step=74, timestamp=1717973367244, value=0.9989012980527182>,\n",
       " <Metric: key='accuracy', step=75, timestamp=1717973367655, value=0.9923729671077319>,\n",
       " <Metric: key='accuracy', step=76, timestamp=1717973368074, value=0.992891162286747>,\n",
       " <Metric: key='accuracy', step=77, timestamp=1717973368511, value=0.9872457762575835>,\n",
       " <Metric: key='accuracy', step=78, timestamp=1717973368961, value=0.9921642687681892>,\n",
       " <Metric: key='accuracy', step=79, timestamp=1717973369405, value=0.9934089775297471>,\n",
       " <Metric: key='accuracy', step=80, timestamp=1717973369872, value=0.9932921958280214>,\n",
       " <Metric: key='accuracy', step=81, timestamp=1717973370315, value=0.9889121315870825>,\n",
       " <Metric: key='accuracy', step=82, timestamp=1717973370761, value=0.9991576252551055>,\n",
       " <Metric: key='accuracy', step=83, timestamp=1717973371182, value=0.9947101639165895>,\n",
       " <Metric: key='accuracy', step=84, timestamp=1717973371627, value=0.9898531684838779>,\n",
       " <Metric: key='accuracy', step=85, timestamp=1717973372055, value=0.9896098640719283>,\n",
       " <Metric: key='accuracy', step=86, timestamp=1717973372493, value=0.9945809638876968>,\n",
       " <Metric: key='accuracy', step=87, timestamp=1717973372973, value=0.9946341787588943>,\n",
       " <Metric: key='accuracy', step=88, timestamp=1717973373415, value=0.9990372833606626>,\n",
       " <Metric: key='accuracy', step=89, timestamp=1717973373930, value=0.9992003646366356>,\n",
       " <Metric: key='accuracy', step=90, timestamp=1717973374384, value=0.9941294153951805>,\n",
       " <Metric: key='accuracy', step=91, timestamp=1717973374812, value=0.9903286446501061>,\n",
       " <Metric: key='accuracy', step=92, timestamp=1717973375246, value=0.9986357836550455>,\n",
       " <Metric: key='accuracy', step=93, timestamp=1717973375727, value=0.9944986878499903>,\n",
       " <Metric: key='accuracy', step=94, timestamp=1717973376162, value=0.9978863086991483>,\n",
       " <Metric: key='accuracy', step=95, timestamp=1717973376611, value=0.9999075997855339>,\n",
       " <Metric: key='accuracy', step=96, timestamp=1717973377053, value=0.9921107821162152>,\n",
       " <Metric: key='accuracy', step=97, timestamp=1717973377478, value=0.9912659679738054>,\n",
       " <Metric: key='accuracy', step=98, timestamp=1717973377927, value=0.9921298576914822>,\n",
       " <Metric: key='accuracy', step=99, timestamp=1717973378358, value=0.9939819025520245>,\n",
       " <Metric: key='accuracy', step=100, timestamp=1717973378780, value=0.9902858808330187>]"
      ]
     },
     "execution_count": 7,
     "metadata": {},
     "output_type": "execute_result"
    }
   ],
   "source": [
    "metric_history"
   ]
  },
  {
   "cell_type": "code",
   "execution_count": 8,
   "metadata": {},
   "outputs": [
    {
     "data": {
      "text/plain": [
       "[<matplotlib.lines.Line2D at 0x25cc7b838d0>]"
      ]
     },
     "execution_count": 8,
     "metadata": {},
     "output_type": "execute_result"
    },
    {
     "data": {
      "image/png": "[encoded data removed]",
      "text/plain": [
       "<Figure size 640x480 with 1 Axes>"
      ]
     },
     "metadata": {},
     "output_type": "display_data"
    }
   ],
   "source": [
    "metric_value = [m.value for m in metric_history]\n",
    "plt.plot(range(1,epochs+1), metric_value)"
   ]
  },
  {
   "cell_type": "code",
   "execution_count": 9,
   "metadata": {},
   "outputs": [
    {
     "data": {
      "text/plain": [
       "[<Metric: key='m1', step=0, timestamp=1717973154704, value=2.0>,\n",
       " <Metric: key='m1', step=0, timestamp=1717973379204, value=5.0>,\n",
       " <Metric: key='m1', step=2, timestamp=1717973472231, value=5.0>]"
      ]
     },
     "execution_count": 9,
     "metadata": {},
     "output_type": "execute_result"
    }
   ],
   "source": [
    "# use the client to get the metric history\n",
    "metric_history = client.get_metric_history(run_id = \"9a0bb325d84e4561b90a0a0db0b4d364\", key = \"m1\")\n",
    "metric_history"
   ]
  },
  {
   "cell_type": "markdown",
   "metadata": {},
   "source": [
    "# Logging Parameters"
   ]
  },
  {
   "cell_type": "code",
   "execution_count": 10,
   "metadata": {},
   "outputs": [
    {
     "name": "stdout",
     "output_type": "stream",
     "text": [
      "Run ID: 5c0467b680c54ad999acc6a27553b2d7\n"
     ]
    }
   ],
   "source": [
    "with mlflow.start_run(run_name=\"logging_params\", experiment_id=experiment.experiment_id) as run:\n",
    "    print(\"Run ID:\", run.info.run_id)\n",
    "\n",
    "    # logging a single parameter\n",
    "    mlflow.log_param(\"p1\", 2.0)\n",
    "\n",
    "    # logging multiple parameters\n",
    "    mlflow.log_params({\"p2\": 3.0, \"p3\": 4.0, \"p4\":\"This is a parameter.\"})"
   ]
  },
  {
   "cell_type": "markdown",
   "metadata": {},
   "source": [
    "# Logging Dict"
   ]
  },
  {
   "cell_type": "code",
   "execution_count": 11,
   "metadata": {},
   "outputs": [
    {
     "name": "stdout",
     "output_type": "stream",
     "text": [
      "Run ID: 11bb8edf3d414ac0adbab29c485d6ad2\n"
     ]
    }
   ],
   "source": [
    "with mlflow.start_run(run_name=\"logging_dict\", experiment_id=experiment.experiment_id) as run:\n",
    "    print(\"Run ID:\", run.info.run_id)\n",
    "\n",
    "    # logging a dictionary as json\n",
    "    mlflow.log_dict(dictionary={\"m1\": 2.0, \"m2\": 3.0, \"m3\": 4.0}, artifact_file=\"files/metrics.json\")\n",
    "\n",
    "    # logging a dictionary as yaml \n",
    "    config = {\n",
    "        \"dev\":{\n",
    "            \"epochs\": 100,\n",
    "            \"batch_size\": 32\n",
    "        },\n",
    "        \"test\":{\n",
    "            \"epochs\": 50,\n",
    "            \"batch_size\": 16\n",
    "        },\n",
    "        \"prod\":{\n",
    "            \"epochs\": 10,\n",
    "            \"batch_size\": 8\n",
    "        }\n",
    "    }\n",
    "    mlflow.log_dict(dictionary=config, artifact_file=\"files/config.yaml\")\n"
   ]
  },
  {
   "cell_type": "markdown",
   "metadata": {},
   "source": [
    "# Logging Artifacts"
   ]
  },
  {
   "cell_type": "code",
   "execution_count": 13,
   "metadata": {},
   "outputs": [
    {
     "name": "stdout",
     "output_type": "stream",
     "text": [
      "Run ID: e3a54166f1c34d72977abb1bd9410047\n"
     ]
    }
   ],
   "source": [
    "#Log a single artifact (file)\n",
    "with mlflow.start_run(run_name=\"logging_artifact\", experiment_id=experiment.experiment_id) as run:\n",
    "    print(\"Run ID:\", run.info.run_id)\n",
    "\n",
    "    # logging an artifact\n",
    "    mlflow.log_artifact(local_path=\"../../images/mlflow_run.jpeg\",artifact_path=\"images\")"
   ]
  },
  {
   "cell_type": "code",
   "execution_count": 14,
   "metadata": {},
   "outputs": [
    {
     "name": "stdout",
     "output_type": "stream",
     "text": [
      "Run ID: 590245ce835f430da87c267db7706f85\n"
     ]
    }
   ],
   "source": [
    "with mlflow.start_run(run_name=\"logging_artifacts\", experiment_id=experiment.experiment_id) as run:\n",
    "    print(\"Run ID:\", run.info.run_id)\n",
    "\n",
    "    # logging an artifact\n",
    "    mlflow.log_artifacts(local_dir=\"../../images\",artifact_path=\"images\")"
   ]
  },
  {
   "cell_type": "markdown",
   "metadata": {},
   "source": [
    "# Logging Figure\n",
    "\n",
    "Log a figure as an artifact. The following figure objects are supported:\n",
    "\n",
    "* matplotlib.figure.Figure\n",
    "\n",
    "* plotly.graph_objects.Figure"
   ]
  },
  {
   "cell_type": "code",
   "execution_count": 19,
   "metadata": {},
   "outputs": [
    {
     "name": "stdout",
     "output_type": "stream",
     "text": [
      "Run ID: a4c2da65f88a4a4cac0d8bcb45b11bd9\n"
     ]
    },
    {
     "data": {
      "image/png": "[encoded data removed]",
      "text/plain": [
       "<Figure size 640x480 with 1 Axes>"
      ]
     },
     "metadata": {},
     "output_type": "display_data"
    }
   ],
   "source": [
    "import matplotlib.pyplot as plt\n",
    "\n",
    "fig, ax = plt.subplots()\n",
    "ax.plot([0, 1], [2, 3])\n",
    "\n",
    "with mlflow.start_run(run_name=\"logging_figure\", experiment_id=experiment.experiment_id) as run:\n",
    "    print(\"Run ID:\", run.info.run_id)\n",
    "\n",
    "    # logging a figure\n",
    "    mlflow.log_figure(fig, artifact_file=\"figures/figure.png\")"
   ]
  },
  {
   "cell_type": "markdown",
   "metadata": {},
   "source": [
    "# Logging Image\n",
    "\n",
    "Log an image as an artifact. The following image objects are supported:\n",
    "\n",
    "* numpy.ndarray\n",
    "\n",
    "* PIL.Image.Image"
   ]
  },
  {
   "cell_type": "code",
   "execution_count": 22,
   "metadata": {},
   "outputs": [
    {
     "name": "stdout",
     "output_type": "stream",
     "text": [
      "Run ID: 58ebb79f7b874810ae7ecb1dcc888d1a\n"
     ]
    }
   ],
   "source": [
    "import numpy as np\n",
    "\n",
    "image = np.random.randint(0, 256, size=(100, 100, 3), dtype=np.uint8)\n",
    "\n",
    "with mlflow.start_run(run_name=\"logging_image\", experiment_id=experiment.experiment_id) as run:\n",
    "    print(\"Run ID:\", run.info.run_id)\n",
    "\n",
    "    # logging an image\n",
    "    mlflow.log_image(image, artifact_file=\"image.png\")"
   ]
  },
  {
   "cell_type": "markdown",
   "metadata": {},
   "source": [
    "# Logging Table\n",
    "\n",
    "Log a table to MLflow Tracking as a JSON artifact. If the artifact_file already exists in the run, the data would be appended to the existing artifact_file.\n",
    "\n",
    "* data – Dictionary or pandas.DataFrame to log.\n",
    "\n",
    "* artifact_file – The run-relative artifact file path in posixpath format to which the table is saved (e.g. “dir/file.json”)."
   ]
  },
  {
   "cell_type": "code",
   "execution_count": 31,
   "metadata": {},
   "outputs": [
    {
     "name": "stdout",
     "output_type": "stream",
     "text": [
      "Run ID: 86f3395a44d6495a96ac88cdbbcaebff\n"
     ]
    }
   ],
   "source": [
    "import mlflow\n",
    "\n",
    "table_dict = {\n",
    "    \"inputs\": [\"What is MLflow?\", \"What is Databricks?\"],\n",
    "    \"outputs\": [\"MLflow is ...\", \"Databricks is ...\"],\n",
    "    \"toxicity\": [0.0, 0.0],\n",
    "}\n",
    "\n",
    "with mlflow.start_run(run_name=\"logging_table\", experiment_id=experiment.experiment_id) as run:\n",
    "    print(\"Run ID:\", run.info.run_id)\n",
    "\n",
    "    # Log the dictionary as a table\n",
    "    mlflow.log_table(data=table_dict, artifact_file=\"results.json\")"
   ]
  },
  {
   "cell_type": "code",
   "execution_count": 33,
   "metadata": {},
   "outputs": [
    {
     "name": "stdout",
     "output_type": "stream",
     "text": [
      "Run ID: 86f3395a44d6495a96ac88cdbbcaebff\n"
     ]
    },
    {
     "name": "stderr",
     "output_type": "stream",
     "text": [
      "2024/06/10 14:25:05 INFO mlflow.tracking.client: Appending new table to already existing artifact results.json for run 86f3395a44d6495a96ac88cdbbcaebff.\n"
     ]
    }
   ],
   "source": [
    "# Appending more info\n",
    "\n",
    "table_dict = {\n",
    "    \"inputs\": [\"This is a new input\"],\n",
    "    \"outputs\": [\"This is a new output\"],\n",
    "    \"toxicity\": [10.0],\n",
    "    \"new_column\": [\"This is a new column.\"],\n",
    "}\n",
    "\n",
    "with mlflow.start_run(run_id=run.info.run_id, experiment_id=experiment.experiment_id) as run:\n",
    "    print(\"Run ID:\", run.info.run_id)\n",
    "\n",
    "    # Log the dictionary as a table\n",
    "    mlflow.log_table(data=table_dict, artifact_file=\"results.json\")"
   ]
  },
  {
   "cell_type": "code",
   "execution_count": 35,
   "metadata": {},
   "outputs": [
    {
     "name": "stdout",
     "output_type": "stream",
     "text": [
      "Run ID: 408c39d5d8414d2ebbd9c22df720624b\n"
     ]
    }
   ],
   "source": [
    "import pandas as pd\n",
    "\n",
    "df = pd.DataFrame({\n",
    "    \"inputs\": [\"What is MLflow?\", \"What is Databricks?\"],\n",
    "    \"outputs\": [\"MLflow is ...\", \"Databricks is ...\"],\n",
    "    \"toxicity\": [0.0, 0.0],\n",
    "})\n",
    "\n",
    "with mlflow.start_run(run_name=\"logging_dataframe\", experiment_id=experiment.experiment_id) as run:\n",
    "    print(\"Run ID:\", run.info.run_id)\n",
    "\n",
    "    # Log the dictionary as a table\n",
    "    mlflow.log_table(data=df, artifact_file=\"results.json\")"
   ]
  },
  {
   "cell_type": "markdown",
   "metadata": {},
   "source": [
    "# Logging Text\n",
    "\n",
    "Log text as an artifact."
   ]
  },
  {
   "cell_type": "code",
   "execution_count": 36,
   "metadata": {},
   "outputs": [
    {
     "name": "stdout",
     "output_type": "stream",
     "text": [
      "Run ID: 5dc1b2d8a7e14098b7ebc1a845d56a4e\n"
     ]
    }
   ],
   "source": [
    "with mlflow.start_run(run_name=\"logging_text\", experiment_id=experiment.experiment_id) as run:\n",
    "\n",
    "    print(\"Run ID:\", run.info.run_id)\n",
    "    # Log text to a file under the run's root artifact directory\n",
    "    mlflow.log_text(text = \"simple string\",artifact_file= \"file1.txt\")\n",
    "\n",
    "    # Log text in a subdirectory of the run's root artifact directory\n",
    "    mlflow.log_text(text = \"another simple string\", artifact_file= \"dir/file2.txt\")\n",
    "\n",
    "    # Log HTML text\n",
    "    mlflow.log_text(text = \"<h1>header</h1>\", artifact_file= \"index.html\")"
   ]
  },
  {
   "cell_type": "code",
   "execution_count": null,
   "metadata": {},
   "outputs": [],
   "source": []
  }
 ],
 "metadata": {
  "kernelspec": {
   "display_name": ".venv",
   "language": "python",
   "name": "python3"
  },
  "language_info": {
   "codemirror_mode": {
    "name": "ipython",
    "version": 3
   },
   "file_extension": ".py",
   "mimetype": "text/x-python",
   "name": "python",
   "nbconvert_exporter": "python",
   "pygments_lexer": "ipython3",
   "version": "3.11.8"
  }
 },
 "nbformat": 4,
 "nbformat_minor": 2
}
