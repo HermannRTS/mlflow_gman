{
 "cells": [
  {
   "cell_type": "markdown",
   "metadata": {},
   "source": [
    "# Logging Metrics"
   ]
  },
  {
   "cell_type": "code",
   "execution_count": 1,
   "metadata": {},
   "outputs": [],
   "source": [
    "from mlflow_for_ml_dev.experiments.exp_utils import get_or_create_experiment\n",
    "import mlflow"
   ]
  },
  {
   "cell_type": "code",
   "execution_count": 2,
   "metadata": {},
   "outputs": [],
   "source": [
    "experiment = get_or_create_experiment(\"Default\")"
   ]
  },
  {
   "cell_type": "code",
   "execution_count": 3,
   "metadata": {},
   "outputs": [
    {
     "name": "stdout",
     "output_type": "stream",
     "text": [
      "Run ID: 1f8c94d4e91a4c2a88ff91da53820821\n"
     ]
    }
   ],
   "source": [
    "with mlflow.start_run(run_name=\"logging_metrics\", experiment_id=experiment.experiment_id) as run:\n",
    "    print(\"Run ID:\", run.info.run_id)\n",
    "\n",
    "    # logging a single metric\n",
    "    mlflow.log_metric(\"m1\", 2.0, step=0)\n",
    "\n",
    "    # logging multiple metrics\n",
    "    mlflow.log_metrics({\"m2\": 3.0, \"m3\": 4.0})"
   ]
  },
  {
   "cell_type": "code",
   "execution_count": 4,
   "metadata": {},
   "outputs": [
    {
     "name": "stdout",
     "output_type": "stream",
     "text": [
      "Run ID: 1f8c94d4e91a4c2a88ff91da53820821\n"
     ]
    }
   ],
   "source": [
    "with mlflow.start_run(run_name=\"logging_metrics\", run_id=run.info.run_id, experiment_id=experiment.experiment_id) as run:\n",
    "    print(\"Run ID:\", run.info.run_id)\n",
    "\n",
    "    # logging a single metric\n",
    "    mlflow.log_metric(\"m1\", 2.0, step=1)\n",
    "\n",
    "    # logging multiple metrics\n",
    "    mlflow.log_metrics({\"m2\": 3.0, \"m3\": 4.0})"
   ]
  },
  {
   "cell_type": "code",
   "execution_count": 5,
   "metadata": {},
   "outputs": [],
   "source": [
    "client = mlflow.MlflowClient()"
   ]
  },
  {
   "cell_type": "code",
   "execution_count": 6,
   "metadata": {},
   "outputs": [
    {
     "data": {
      "text/plain": [
       "[<Metric: key='m1', step=0, timestamp=1711726001621, value=2.0>,\n",
       " <Metric: key='m1', step=1, timestamp=1711726001643, value=2.0>]"
      ]
     },
     "execution_count": 6,
     "metadata": {},
     "output_type": "execute_result"
    }
   ],
   "source": [
    "client.get_metric_history(run.info.run_id, \"m1\")"
   ]
  },
  {
   "cell_type": "markdown",
   "metadata": {},
   "source": [
    "# Logging Parameters"
   ]
  },
  {
   "cell_type": "code",
   "execution_count": 7,
   "metadata": {},
   "outputs": [
    {
     "name": "stdout",
     "output_type": "stream",
     "text": [
      "Run ID: 0a18895d6b2b4255ab6c5e51c0b3dc89\n"
     ]
    }
   ],
   "source": [
    "with mlflow.start_run(run_name=\"logging_params\", experiment_id=experiment.experiment_id) as run:\n",
    "    print(\"Run ID:\", run.info.run_id)\n",
    "\n",
    "    # logging a single parameter\n",
    "    mlflow.log_param(\"p1\", 2.0)\n",
    "\n",
    "    # logging multiple parameters\n",
    "    mlflow.log_params({\"p2\": 3.0, \"p3\": 4.0})"
   ]
  },
  {
   "cell_type": "markdown",
   "metadata": {},
   "source": [
    "# Logging Dict"
   ]
  },
  {
   "cell_type": "code",
   "execution_count": 8,
   "metadata": {},
   "outputs": [
    {
     "name": "stdout",
     "output_type": "stream",
     "text": [
      "Run ID: 07ecd0d689b74c2d9737d55f1420cd88\n"
     ]
    }
   ],
   "source": [
    "with mlflow.start_run(run_name=\"logging_dict\", experiment_id=experiment.experiment_id) as run:\n",
    "    print(\"Run ID:\", run.info.run_id)\n",
    "\n",
    "    # logging a dictionary\n",
    "    mlflow.log_dict(dictionary={\"m1\": 2.0, \"m2\": 3.0, \"m3\": 4.0}, artifact_file=\"files/metrics.json\")"
   ]
  },
  {
   "cell_type": "code",
   "execution_count": 9,
   "metadata": {},
   "outputs": [
    {
     "name": "stdout",
     "output_type": "stream",
     "text": [
      "Run ID: 4cccc15f1a6845ae88fa7cf4a4e837ea\n"
     ]
    }
   ],
   "source": [
    "with mlflow.start_run(run_name=\"logging_dict\", experiment_id=experiment.experiment_id) as run:\n",
    "    print(\"Run ID:\", run.info.run_id)\n",
    "\n",
    "    # logging a dictionary\n",
    "    mlflow.log_dict(dictionary={\"m1\": 2.0, \"m2\": 3.0, \"m3\": 4.0}, artifact_file=\"files/metrics.yaml\")"
   ]
  },
  {
   "cell_type": "markdown",
   "metadata": {},
   "source": [
    "# Logging Artifacts"
   ]
  },
  {
   "cell_type": "code",
   "execution_count": 10,
   "metadata": {},
   "outputs": [
    {
     "name": "stdout",
     "output_type": "stream",
     "text": [
      "Run ID: e2b866f57579464aa47692d0b21a45ee\n"
     ]
    }
   ],
   "source": [
    "with mlflow.start_run(run_name=\"logging_artifact\", experiment_id=experiment.experiment_id) as run:\n",
    "    print(\"Run ID:\", run.info.run_id)\n",
    "\n",
    "    # logging an artifact\n",
    "    mlflow.log_artifact(local_path=\"../../images/mlflow_run.jpeg\",artifact_path=\"images\")"
   ]
  },
  {
   "cell_type": "code",
   "execution_count": 11,
   "metadata": {},
   "outputs": [
    {
     "name": "stdout",
     "output_type": "stream",
     "text": [
      "Run ID: 0a3b860fbfe045d5a02ff540daa685fa\n"
     ]
    }
   ],
   "source": [
    "with mlflow.start_run(run_name=\"logging_artifacts\", experiment_id=experiment.experiment_id) as run:\n",
    "    print(\"Run ID:\", run.info.run_id)\n",
    "\n",
    "    # logging an artifact\n",
    "    mlflow.log_artifacts(local_dir=\"../../images\",artifact_path=\"images\")"
   ]
  },
  {
   "cell_type": "markdown",
   "metadata": {},
   "source": [
    "# Logging Figure\n",
    "\n",
    "Log a figure as an artifact. The following figure objects are supported:\n",
    "\n",
    "* matplotlib.figure.Figure\n",
    "\n",
    "* plotly.graph_objects.Figure"
   ]
  },
  {
   "cell_type": "code",
   "execution_count": 12,
   "metadata": {},
   "outputs": [
    {
     "name": "stdout",
     "output_type": "stream",
     "text": [
      "Run ID: cbb24ed182084abbbe7220e579069728\n"
     ]
    },
    {
     "data": {
      "image/png": "[encoded data removed]",
      "text/plain": [
       "<Figure size 640x480 with 1 Axes>"
      ]
     },
     "metadata": {},
     "output_type": "display_data"
    }
   ],
   "source": [
    "import matplotlib.pyplot as plt\n",
    "\n",
    "fig, ax = plt.subplots()\n",
    "ax.plot([0, 1], [2, 3])\n",
    "\n",
    "with mlflow.start_run(run_name=\"logging_figure\", experiment_id=experiment.experiment_id) as run:\n",
    "    print(\"Run ID:\", run.info.run_id)\n",
    "\n",
    "    # logging a figure\n",
    "    mlflow.log_figure(fig, artifact_file=\"figure.png\")\n"
   ]
  },
  {
   "cell_type": "markdown",
   "metadata": {},
   "source": [
    "# Logging Image\n",
    "\n",
    "Log an image as an artifact. The following image objects are supported:\n",
    "\n",
    "* numpy.ndarray\n",
    "\n",
    "* PIL.Image.Image"
   ]
  },
  {
   "cell_type": "code",
   "execution_count": 13,
   "metadata": {},
   "outputs": [
    {
     "name": "stdout",
     "output_type": "stream",
     "text": [
      "Run ID: 27c0842a92df46b6ae65ffec13017b08\n"
     ]
    }
   ],
   "source": [
    "import numpy as np\n",
    "\n",
    "image = np.random.randint(0, 256, size=(100, 100, 3), dtype=np.uint8)\n",
    "\n",
    "with mlflow.start_run(run_name=\"logging_image\", experiment_id=experiment.experiment_id) as run:\n",
    "    print(\"Run ID:\", run.info.run_id)\n",
    "\n",
    "    # logging an image\n",
    "    mlflow.log_image(image, artifact_file=\"image.png\")\n"
   ]
  },
  {
   "cell_type": "markdown",
   "metadata": {},
   "source": [
    "# Logging Table\n",
    "\n",
    "Log a table to MLflow Tracking as a JSON artifact. If the artifact_file already exists in the run, the data would be appended to the existing artifact_file.\n",
    "\n",
    "* data – Dictionary or pandas.DataFrame to log.\n",
    "\n",
    "* artifact_file – The run-relative artifact file path in posixpath format to which the table is saved (e.g. “dir/file.json”)."
   ]
  },
  {
   "cell_type": "code",
   "execution_count": 14,
   "metadata": {},
   "outputs": [
    {
     "name": "stdout",
     "output_type": "stream",
     "text": [
      "Run ID: 08e7fbe0d66d4f40bed87a46b5511de1\n"
     ]
    }
   ],
   "source": [
    "import mlflow\n",
    "\n",
    "table_dict = {\n",
    "    \"inputs\": [\"What is MLflow?\", \"What is Databricks?\"],\n",
    "    \"outputs\": [\"MLflow is ...\", \"Databricks is ...\"],\n",
    "    \"toxicity\": [0.0, 0.0],\n",
    "}\n",
    "with mlflow.start_run(run_name=\"logging_table\", experiment_id=experiment.experiment_id) as run:\n",
    "    print(\"Run ID:\", run.info.run_id)\n",
    "\n",
    "    # Log the dictionary as a table\n",
    "    mlflow.log_table(data=table_dict, artifact_file=\"results.json\")"
   ]
  },
  {
   "cell_type": "markdown",
   "metadata": {},
   "source": [
    "# Logging Text\n",
    "\n",
    "Log text as an artifact."
   ]
  },
  {
   "cell_type": "code",
   "execution_count": 15,
   "metadata": {},
   "outputs": [
    {
     "name": "stdout",
     "output_type": "stream",
     "text": [
      "Run ID: c8d5be9cfc4a4feca31ef8d3cb63ac64\n"
     ]
    }
   ],
   "source": [
    "with mlflow.start_run(run_name=\"logging_text\", experiment_id=experiment.experiment_id) as run:\n",
    "\n",
    "    print(\"Run ID:\", run.info.run_id)\n",
    "    # Log text to a file under the run's root artifact directory\n",
    "    mlflow.log_text(\"text1\", \"file1.txt\")\n",
    "\n",
    "    # Log text in a subdirectory of the run's root artifact directory\n",
    "    mlflow.log_text(\"text2\", \"dir/file2.txt\")\n",
    "\n",
    "    # Log HTML text\n",
    "    mlflow.log_text(\"<h1>header</h1>\", \"index.html\")"
   ]
  }
 ],
 "metadata": {
  "kernelspec": {
   "display_name": ".venv",
   "language": "python",
   "name": "python3"
  },
  "language_info": {
   "codemirror_mode": {
    "name": "ipython",
    "version": 3
   },
   "file_extension": ".py",
   "mimetype": "text/x-python",
   "name": "python",
   "nbconvert_exporter": "python",
   "pygments_lexer": "ipython3",
   "version": "3.11.8"
  }
 },
 "nbformat": 4,
 "nbformat_minor": 2
}
