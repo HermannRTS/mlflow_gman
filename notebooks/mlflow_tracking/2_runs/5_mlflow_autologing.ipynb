{
 "cells": [
  {
   "cell_type": "markdown",
   "metadata": {},
   "source": [
    "# MLflow AutoLogging\n",
    "\n",
    "Enables (or disables) and configures autologging for scikit-learn estimators."
   ]
  },
  {
   "cell_type": "markdown",
   "metadata": {},
   "source": [
    ">```python\n",
    ">mlflow.sklearn.autolog(log_input_examples=False, log_model_signatures=True, log_models=True, log_datasets=True, disable=False, exclusive=False, disable_for_unsupported_versions=False, >silent=False, max_tuning_runs=5, log_post_training_metrics=True, serialization_format='cloudpickle', registered_model_name=None, pos_label=None, extra_tags=None)\n"
   ]
  },
  {
   "cell_type": "code",
   "execution_count": 1,
   "metadata": {},
   "outputs": [],
   "source": [
    "from sklearn.datasets import load_iris\n",
    "from sklearn.ensemble import RandomForestClassifier\n",
    "from sklearn.model_selection import train_test_split\n",
    "from pprint import pprint\n",
    "import mlflow \n",
    "\n",
    "from mlflow_for_ml_dev.experiments.exp_utils import get_or_create_experiment"
   ]
  },
  {
   "cell_type": "code",
   "execution_count": 2,
   "metadata": {},
   "outputs": [],
   "source": [
    "# create experiment\n",
    "experiment = get_or_create_experiment(\"sklearn_autologging\")"
   ]
  },
  {
   "cell_type": "code",
   "execution_count": 3,
   "metadata": {},
   "outputs": [
    {
     "name": "stderr",
     "output_type": "stream",
     "text": [
      "2024/03/30 09:31:11 WARNING mlflow.utils.autologging_utils: MLflow autologging encountered a warning: \"c:\\Users\\manue\\projects\\mlflow_for_ml_dev\\.venv\\Lib\\site-packages\\mlflow\\data\\digest_utils.py:26: FutureWarning: DataFrame.applymap has been deprecated. Use DataFrame.map instead.\"\n"
     ]
    },
    {
     "name": "stdout",
     "output_type": "stream",
     "text": [
      "MLflow run_id: ecb6ad9951ff46c2b8d1a1e58099f6d2\n"
     ]
    },
    {
     "name": "stderr",
     "output_type": "stream",
     "text": [
      "2024/03/30 09:31:16 WARNING mlflow.utils.autologging_utils: MLflow autologging encountered a warning: \"c:\\Users\\manue\\projects\\mlflow_for_ml_dev\\.venv\\Lib\\site-packages\\_distutils_hack\\__init__.py:26: UserWarning: Setuptools is replacing distutils.\"\n"
     ]
    }
   ],
   "source": [
    "# enable autologging\n",
    "mlflow.sklearn.autolog()\n",
    "\n",
    "# load data\n",
    "iris = load_iris(as_frame=True)\n",
    "X = iris.data\n",
    "y = iris.target\n",
    "\n",
    "# train model\n",
    "rf = RandomForestClassifier()\n",
    "with mlflow.start_run(run_name=\"autologged_run\") as run:\n",
    "    print(f\"MLflow run_id: {run.info.run_id}\")\n",
    "    rf.fit(X, y)"
   ]
  },
  {
   "cell_type": "code",
   "execution_count": 4,
   "metadata": {},
   "outputs": [
    {
     "name": "stdout",
     "output_type": "stream",
     "text": [
      "{'bootstrap': 'True',\n",
      " 'ccp_alpha': '0.0',\n",
      " 'class_weight': 'None',\n",
      " 'criterion': 'gini',\n",
      " 'max_depth': 'None',\n",
      " 'max_features': 'sqrt',\n",
      " 'max_leaf_nodes': 'None',\n",
      " 'max_samples': 'None',\n",
      " 'min_impurity_decrease': '0.0',\n",
      " 'min_samples_leaf': '1',\n",
      " 'min_samples_split': '2',\n",
      " 'min_weight_fraction_leaf': '0.0',\n",
      " 'monotonic_cst': 'None',\n",
      " 'n_estimators': '100',\n",
      " 'n_jobs': 'None',\n",
      " 'oob_score': 'False',\n",
      " 'random_state': 'None',\n",
      " 'verbose': '0',\n",
      " 'warm_start': 'False'}\n"
     ]
    }
   ],
   "source": [
    "# get run and fecth logged data\n",
    "run_id = run.info.run_id\n",
    "run = mlflow.get_run(run_id)\n",
    "pprint(run.data.params)\n"
   ]
  },
  {
   "cell_type": "code",
   "execution_count": 5,
   "metadata": {},
   "outputs": [
    {
     "data": {
      "text/plain": [
       "{'training_accuracy_score': 1.0,\n",
       " 'training_f1_score': 1.0,\n",
       " 'training_log_loss': 0.026832977589816096,\n",
       " 'training_precision_score': 1.0,\n",
       " 'training_recall_score': 1.0,\n",
       " 'training_roc_auc': 1.0,\n",
       " 'training_score': 1.0}"
      ]
     },
     "execution_count": 5,
     "metadata": {},
     "output_type": "execute_result"
    }
   ],
   "source": [
    "run.data.metrics"
   ]
  },
  {
   "cell_type": "code",
   "execution_count": 6,
   "metadata": {},
   "outputs": [
    {
     "data": {
      "text/plain": [
       "{'estimator_class': 'sklearn.ensemble._forest.RandomForestClassifier',\n",
       " 'estimator_name': 'RandomForestClassifier',\n",
       " 'mlflow.log-model.history': '[{\"run_id\": \"ecb6ad9951ff46c2b8d1a1e58099f6d2\", \"artifact_path\": \"model\", \"utc_time_created\": \"2024-03-30 14:31:12.548332\", \"flavors\": {\"python_function\": {\"model_path\": \"model.pkl\", \"predict_fn\": \"predict\", \"loader_module\": \"mlflow.sklearn\", \"python_version\": \"3.11.8\", \"env\": {\"conda\": \"conda.yaml\", \"virtualenv\": \"python_env.yaml\"}}, \"sklearn\": {\"pickled_model\": \"model.pkl\", \"sklearn_version\": \"1.4.1.post1\", \"serialization_format\": \"cloudpickle\", \"code\": null}}, \"model_uuid\": \"dee5d8496ec449319b51a1056efebb61\", \"mlflow_version\": \"2.11.3\", \"signature\": {\"inputs\": \"[{\\\\\"type\\\\\": \\\\\"double\\\\\", \\\\\"name\\\\\": \\\\\"sepal length (cm)\\\\\", \\\\\"required\\\\\": true}, {\\\\\"type\\\\\": \\\\\"double\\\\\", \\\\\"name\\\\\": \\\\\"sepal width (cm)\\\\\", \\\\\"required\\\\\": true}, {\\\\\"type\\\\\": \\\\\"double\\\\\", \\\\\"name\\\\\": \\\\\"petal length (cm)\\\\\", \\\\\"required\\\\\": true}, {\\\\\"type\\\\\": \\\\\"double\\\\\", \\\\\"name\\\\\": \\\\\"petal width (cm)\\\\\", \\\\\"required\\\\\": true}]\", \"outputs\": \"[{\\\\\"type\\\\\": \\\\\"tensor\\\\\", \\\\\"tensor-spec\\\\\": {\\\\\"dtype\\\\\": \\\\\"int32\\\\\", \\\\\"shape\\\\\": [-1]}}]\", \"params\": null}, \"model_size_bytes\": 177203}]',\n",
       " 'mlflow.runName': 'autologged_run',\n",
       " 'mlflow.source.name': 'c:\\\\Users\\\\manue\\\\projects\\\\mlflow_for_ml_dev\\\\.venv\\\\Lib\\\\site-packages\\\\ipykernel_launcher.py',\n",
       " 'mlflow.source.type': 'LOCAL',\n",
       " 'mlflow.user': 'manue'}"
      ]
     },
     "execution_count": 6,
     "metadata": {},
     "output_type": "execute_result"
    }
   ],
   "source": [
    "run.data.tags"
   ]
  },
  {
   "cell_type": "code",
   "execution_count": 7,
   "metadata": {},
   "outputs": [
    {
     "name": "stdout",
     "output_type": "stream",
     "text": [
      "Model artifacts:\n",
      "['model/MLmodel',\n",
      " 'model/conda.yaml',\n",
      " 'model/metadata',\n",
      " 'model/model.pkl',\n",
      " 'model/python_env.yaml',\n",
      " 'model/requirements.txt']\n",
      "All artifacts:\n",
      "['estimator.html', 'model', 'training_confusion_matrix.png']\n"
     ]
    }
   ],
   "source": [
    "model_artifacts = [f.path for f in mlflow.MlflowClient().list_artifacts(run_id, \"model\")]\n",
    "run_artifacts = [f.path for f in mlflow.MlflowClient().list_artifacts(run_id)]\n",
    "print(\"Model artifacts:\")\n",
    "pprint(model_artifacts)\n",
    "print(\"All artifacts:\")\n",
    "pprint(run_artifacts)"
   ]
  },
  {
   "cell_type": "markdown",
   "metadata": {},
   "source": [
    "## Logging Input examples"
   ]
  },
  {
   "cell_type": "code",
   "execution_count": 8,
   "metadata": {},
   "outputs": [
    {
     "name": "stdout",
     "output_type": "stream",
     "text": [
      "MLflow run_id: 9e03eb9960564bea98e4f2d2c5325cdf\n"
     ]
    },
    {
     "name": "stderr",
     "output_type": "stream",
     "text": [
      "2024/03/30 09:31:17 WARNING mlflow.utils.autologging_utils: MLflow autologging encountered a warning: \"c:\\Users\\manue\\projects\\mlflow_for_ml_dev\\.venv\\Lib\\site-packages\\mlflow\\data\\digest_utils.py:26: FutureWarning: DataFrame.applymap has been deprecated. Use DataFrame.map instead.\"\n"
     ]
    }
   ],
   "source": [
    "# enable autologging\n",
    "mlflow.sklearn.autolog(log_input_examples=True)\n",
    "\n",
    "# load data\n",
    "iris = load_iris(as_frame=True)\n",
    "X = iris.data\n",
    "y = iris.target\n",
    "\n",
    "# train model\n",
    "rf = RandomForestClassifier()\n",
    "with mlflow.start_run(run_name=\"autologged_run\") as run:\n",
    "    print(f\"MLflow run_id: {run.info.run_id}\")\n",
    "    rf.fit(X, y)"
   ]
  },
  {
   "cell_type": "code",
   "execution_count": 9,
   "metadata": {},
   "outputs": [
    {
     "name": "stderr",
     "output_type": "stream",
     "text": [
      "2024/03/30 09:31:20 WARNING mlflow.utils.autologging_utils: MLflow autologging encountered a warning: \"c:\\Users\\manue\\projects\\mlflow_for_ml_dev\\.venv\\Lib\\site-packages\\mlflow\\data\\digest_utils.py:26: FutureWarning: DataFrame.applymap has been deprecated. Use DataFrame.map instead.\"\n"
     ]
    },
    {
     "name": "stdout",
     "output_type": "stream",
     "text": [
      "MLflow run_id: ffd1be1c71ff42a492cc375bf898f8c5\n"
     ]
    },
    {
     "name": "stderr",
     "output_type": "stream",
     "text": [
      "2024/03/30 09:31:23 WARNING mlflow.utils.autologging_utils: MLflow autologging encountered a warning: \"c:\\Users\\manue\\projects\\mlflow_for_ml_dev\\.venv\\Lib\\site-packages\\mlflow\\data\\digest_utils.py:26: FutureWarning: DataFrame.applymap has been deprecated. Use DataFrame.map instead.\"\n"
     ]
    },
    {
     "name": "stdout",
     "output_type": "stream",
     "text": [
      "Balanced accuracy: 0.8727272727272727\n"
     ]
    }
   ],
   "source": [
    "# enable autologging\n",
    "mlflow.sklearn.autolog(log_input_examples=True)\n",
    "\n",
    "# Autologging must be enabled before scikit-learn metric\n",
    "# APIs are imported from sklearn.metrics. Metric APIs imported before autologging \n",
    "# is enabled do not log metrics to MLflow runs.\n",
    "\n",
    "from sklearn.metrics import balanced_accuracy_score\n",
    "from sklearn.metrics import accuracy_score\n",
    "from sklearn.metrics import recall_score\n",
    "from sklearn.metrics import f1_score\n",
    "\n",
    "# load data\n",
    "iris = load_iris(as_frame=True)\n",
    "X = iris.data\n",
    "y = iris.target\n",
    "\n",
    "x_train, x_test, y_train, y_test = train_test_split(X, y, test_size=0.2)\n",
    "\n",
    "# train model\n",
    "rf = RandomForestClassifier()\n",
    "with mlflow.start_run(run_name=\"autologged_run\") as run:\n",
    "    print(f\"MLflow run_id: {run.info.run_id}\")\n",
    "    rf.fit(x_train, y_train)\n",
    "\n",
    "    # predictions\n",
    "    y_pred = rf.predict(x_test)\n",
    "    balanced_accuracy = balanced_accuracy_score(y_test, y_pred)\n",
    "    print(f\"Balanced accuracy: {balanced_accuracy}\")\n",
    "\n",
    "    # accuracy\n",
    "    accuracy = accuracy_score(y_test, y_pred)\n",
    "\n",
    "    # recall\n",
    "    recall = recall_score(y_test, y_pred, average=\"weighted\")\n",
    "\n",
    "    # f1\n",
    "    f1 = f1_score(y_test, y_pred, average=\"weighted\")"
   ]
  }
 ],
 "metadata": {
  "kernelspec": {
   "display_name": ".venv",
   "language": "python",
   "name": "python3"
  },
  "language_info": {
   "codemirror_mode": {
    "name": "ipython",
    "version": 3
   },
   "file_extension": ".py",
   "mimetype": "text/x-python",
   "name": "python",
   "nbconvert_exporter": "python",
   "pygments_lexer": "ipython3",
   "version": "3.11.8"
  }
 },
 "nbformat": 4,
 "nbformat_minor": 2
}
