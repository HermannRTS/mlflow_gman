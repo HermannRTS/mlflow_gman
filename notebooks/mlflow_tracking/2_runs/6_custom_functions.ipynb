{
 "cells": [
  {
   "cell_type": "markdown",
   "metadata": {},
   "source": [
    "# Creating custom Pyfunc models\n",
    "\n",
    "MLflow’s persistence modules provide convenience functions for creating models with the pyfunc flavor in a variety of machine learning frameworks (scikit-learn, Keras, Pytorch, and more); however, they do not cover every use case. For example, you may want to create an MLflow model with the pyfunc flavor using a framework that MLflow does not natively support. Alternatively, you may want to build an MLflow model that executes custom logic when evaluating queries, such as preprocessing and postprocessing routines. Therefore, mlflow.pyfunc provides utilities for creating pyfunc models from arbitrary code and model data.\n",
    "\n",
    "## Function-based Model & Class-based Model\n",
    "\n",
    "### Function-based Model\n",
    "\n",
    "If you’re looking to serialize a simple python function without additional dependent methods, you can simply log a predict method via the keyword argument python_model.\n",
    "\n",
    "\n"
   ]
  },
  {
   "cell_type": "code",
   "execution_count": 4,
   "metadata": {},
   "outputs": [],
   "source": [
    "from mlflow_for_ml_dev.experiments.exp_utils import get_or_create_experiment\n",
    "import mlflow \n",
    "import pandas as pd\n"
   ]
  },
  {
   "cell_type": "code",
   "execution_count": 5,
   "metadata": {},
   "outputs": [],
   "source": [
    "experiment = get_or_create_experiment(experiment_name=\"custom_models\")"
   ]
  },
  {
   "cell_type": "code",
   "execution_count": 7,
   "metadata": {},
   "outputs": [
    {
     "name": "stdout",
     "output_type": "stream",
     "text": [
      "0     2\n",
      "1     4\n",
      "2     6\n",
      "3     8\n",
      "4    10\n",
      "dtype: int64\n"
     ]
    }
   ],
   "source": [
    "# Define a simple function to log\n",
    "def predict(model_input):\n",
    "    \"\"\"\n",
    "    Predicts the input multiplied by 2\n",
    "\n",
    "    :param model_input: The input to the model\n",
    "    :return: The input multiplied by 2\n",
    "    \"\"\"\n",
    "    return model_input.apply(lambda x: x * 2)\n",
    "\n",
    "\n",
    "# Save the function as a model\n",
    "with mlflow.start_run(run_name=\"function_model\"):\n",
    "    mlflow.pyfunc.log_model(\"model\", python_model=predict, pip_requirements=[\"pandas\"])\n",
    "    run_id = mlflow.active_run().info.run_id\n",
    "\n",
    "# Load the model from the tracking server and perform inference\n",
    "model = mlflow.pyfunc.load_model(f\"runs:/{run_id}/model\")\n",
    "x_new = pd.Series([1,2,3,4,5])\n",
    "\n",
    "prediction = model.predict(x_new)\n",
    "print(prediction)"
   ]
  },
  {
   "cell_type": "markdown",
   "metadata": {},
   "source": [
    "### Class-based Model\n",
    "\n",
    "If you’re looking to serialize a more complex object, for instance a class that handles preprocessing, complex prediction logic, or custom serialization, you should subclass the PythonModel class.\n",
    "\n",
    "--------\n",
    "```python\n",
    "import mlflow\n",
    "import pandas as pd\n",
    "\n",
    "class MyModel(mlflow.pyfunc.PythonModel):\n",
    "    def predict(self, context, model_input, params=None):\n",
    "        return [x*2 for x in model_input]\n",
    "\n",
    "# Save the function as a model\n",
    "with mlflow.start_run():\n",
    "    mlflow.pyfunc.log_model(\"model\", python_model=MyModel(), pip_requirements=[\"pandas\"])\n",
    "    run_id = mlflow.active_run().info.run_id\n",
    "\n",
    "# Load the model from the tracking server and perform inference\n",
    "model = mlflow.pyfunc.load_model(f\"runs:/{run_id}/model\")\n",
    "x_new = pd.Series([1, 2, 3])\n",
    "\n",
    "print(f\"Prediction:\n",
    "    {model.predict(x_new)}\")\n",
    "```\n",
    "--------\n",
    "\n",
    "Basic Guidelines for a PythonModel\n",
    "\n",
    "The guidelines for this approach are as follows:\n",
    "\n",
    "* Your class must be a subclass of mlflow.pyfunc.PythonModel\n",
    "\n",
    "* Your class must implement a predict method\n",
    "\n",
    "* The predict method must adhere to the requirements of the Inference API.\n",
    "\n",
    "* The predict method must have reference to context as the first named argument\n",
    "\n",
    "* If you wish to provide parameters with your model, these must be defined as part of the model signature. The signature must be saved along with the model.\n",
    "\n",
    "* If you intend to have additional functionality execute when loading the model (such as loading additional dependent files), you may decide to define the load_context method in your class.\n",
    "\n"
   ]
  },
  {
   "cell_type": "code",
   "execution_count": 8,
   "metadata": {},
   "outputs": [],
   "source": [
    "class CustomModel(mlflow.pyfunc.PythonModel):\n",
    "    def __init__(self):\n",
    "        pass\n",
    "\n",
    "    def predict(self, context, model_input):\n",
    "        return model_input.apply(lambda x: x * 2)"
   ]
  },
  {
   "cell_type": "code",
   "execution_count": 9,
   "metadata": {},
   "outputs": [
    {
     "name": "stdout",
     "output_type": "stream",
     "text": [
      "84774338300b4e6da442bb39f880ea8d\n"
     ]
    },
    {
     "name": "stderr",
     "output_type": "stream",
     "text": [
      "c:\\Users\\manue\\projects\\mlflow_for_ml_dev\\.venv\\Lib\\site-packages\\_distutils_hack\\__init__.py:11: UserWarning: Distutils was imported before Setuptools, but importing Setuptools also replaces the `distutils` module in `sys.modules`. This may lead to undesirable behaviors or errors. To avoid these issues, avoid using distutils directly, ensure that setuptools is installed in the traditional way (e.g. not an editable install), and/or make sure that setuptools is always imported before distutils.\n",
      "  warnings.warn(\n",
      "c:\\Users\\manue\\projects\\mlflow_for_ml_dev\\.venv\\Lib\\site-packages\\_distutils_hack\\__init__.py:26: UserWarning: Setuptools is replacing distutils.\n",
      "  warnings.warn(\"Setuptools is replacing distutils.\")\n"
     ]
    }
   ],
   "source": [
    "with mlflow.start_run(run_name=\"class_model\") as run:\n",
    "    print(run.info.run_id)\n",
    "    mlflow.pyfunc.log_model(\"model\", python_model=CustomModel(), pip_requirements=[\"pandas\"])\n",
    "    "
   ]
  },
  {
   "cell_type": "code",
   "execution_count": 12,
   "metadata": {},
   "outputs": [
    {
     "name": "stdout",
     "output_type": "stream",
     "text": [
      "0     2\n",
      "1     4\n",
      "2     6\n",
      "3     8\n",
      "4    10\n",
      "dtype: int64\n"
     ]
    }
   ],
   "source": [
    "loaded_model = mlflow.pyfunc.load_model(f\"runs:/{run.info.run_id}/model\")\n",
    "prediction = loaded_model.predict(x_new)\n",
    "print(prediction)"
   ]
  }
 ],
 "metadata": {
  "kernelspec": {
   "display_name": ".venv",
   "language": "python",
   "name": "python3"
  },
  "language_info": {
   "codemirror_mode": {
    "name": "ipython",
    "version": 3
   },
   "file_extension": ".py",
   "mimetype": "text/x-python",
   "name": "python",
   "nbconvert_exporter": "python",
   "pygments_lexer": "ipython3",
   "version": "3.11.8"
  }
 },
 "nbformat": 4,
 "nbformat_minor": 2
}
