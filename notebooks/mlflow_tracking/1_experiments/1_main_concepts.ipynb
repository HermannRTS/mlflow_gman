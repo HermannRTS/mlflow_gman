{
 "cells": [
  {
   "cell_type": "markdown",
   "metadata": {},
   "source": [
    "# MLflow Tracking\n",
    "\n",
    "The MLflow Tracking is an API and UI for logging parameters, code versions, metrics, and output files when running your machine learning code and for later visualizing the results.\n",
    "\n",
    "## Concepts\n",
    "\n",
    "![Taken from MLflow Docs](https://mlflow.org/docs/latest/_images/tracking-basics.png)\n",
    "\n",
    "**Runs**\n",
    "\n",
    "MLflow Tracking is organized around the concept of runs, which are executions of some piece of data science code, for example, a single python train.py execution.\n",
    "\n",
    "\n",
    "**Experiments** \n",
    "\n",
    "An experiment groups together runs for a specific task. \n",
    "\n",
    "\n"
   ]
  },
  {
   "cell_type": "code",
   "execution_count": null,
   "metadata": {},
   "outputs": [],
   "source": [
    "import mlflow\n",
    "mlflow.login()"
   ]
  },
  {
   "cell_type": "code",
   "execution_count": null,
   "metadata": {},
   "outputs": [],
   "source": [
    "mlflow.get_tracking_uri()"
   ]
  },
  {
   "cell_type": "markdown",
   "metadata": {},
   "source": [
    "# Create an experiment\n",
    "\n",
    "To create an experiment in Databricks the name should be a path in the Workspace, example: /Shared/Users/..."
   ]
  },
  {
   "cell_type": "code",
   "execution_count": null,
   "metadata": {
    "tags": []
   },
   "outputs": [],
   "source": [
    "experiment_name = \"/Shared/Experiments/01 - Introduction to MLflow - 1\""
   ]
  },
  {
   "cell_type": "markdown",
   "metadata": {},
   "source": [
    "The path must exist before creating the experiment. "
   ]
  },
  {
   "cell_type": "code",
   "execution_count": null,
   "metadata": {},
   "outputs": [],
   "source": [
    "from mlflow_for_ml_dev.experiments.exp_utils import print_experiment_info"
   ]
  },
  {
   "cell_type": "code",
   "execution_count": null,
   "metadata": {},
   "outputs": [],
   "source": [
    "experiment_id = mlflow.create_experiment(name=experiment_name)\n",
    "print(experiment_id)"
   ]
  },
  {
   "cell_type": "code",
   "execution_count": null,
   "metadata": {},
   "outputs": [],
   "source": [
    "# Set the experiment  \"/Shared/Experiments/01 - Introduction to MLflow\" as active experiment\n",
    "experiment = mlflow.set_experiment(experiment_name)"
   ]
  },
  {
   "cell_type": "code",
   "execution_count": null,
   "metadata": {},
   "outputs": [],
   "source": [
    "# get the artifact location\n",
    "experiment.artifact_location"
   ]
  },
  {
   "cell_type": "code",
   "execution_count": null,
   "metadata": {},
   "outputs": [],
   "source": [
    "# demo run\n",
    "\n",
    "from sklearn.ensemble import RandomForestClassifier\n",
    "\n",
    "rfc = RandomForestClassifier(n_estimators=10)\n",
    "\n",
    "with mlflow.start_run(run_name=\"first-run\") as run:\n",
    "    mlflow.log_param(\"param1\", 5)\n",
    "    mlflow.sklearn.log_model(sk_model=rfc, artifact_path=\"sklearn-model\")"
   ]
  },
  {
   "cell_type": "markdown",
   "metadata": {},
   "source": [
    "## Specifying Artifact Location"
   ]
  },
  {
   "cell_type": "code",
   "execution_count": null,
   "metadata": {},
   "outputs": [],
   "source": [
    "experiment_name = \"/Shared/Experiments/01 - Introduction to MLflow - 2\"\n",
    "experiment_id = mlflow.create_experiment(name=experiment_name, artifact_location=\"dbfs:/FileStore/mlflow-experiments\")"
   ]
  },
  {
   "cell_type": "code",
   "execution_count": null,
   "metadata": {},
   "outputs": [],
   "source": [
    "# Set the experiment  \"/Shared/Experiments/01 - Introduction to MLflow - 2\" as active experiment\n",
    "experiment = mlflow.set_experiment(experiment_name)"
   ]
  },
  {
   "cell_type": "code",
   "execution_count": null,
   "metadata": {},
   "outputs": [],
   "source": [
    "# get the artifact location\n",
    "experiment.artifact_location"
   ]
  },
  {
   "cell_type": "code",
   "execution_count": null,
   "metadata": {},
   "outputs": [],
   "source": [
    "# demo run\n",
    "from sklearn.ensemble import RandomForestClassifier\n",
    "\n",
    "rfc = RandomForestClassifier(n_estimators=10)\n",
    "\n",
    "with mlflow.start_run(run_name=\"first-run\") as run:\n",
    "    mlflow.log_param(\"param1\", 5)\n",
    "    mlflow.sklearn.log_model(sk_model=rfc, artifact_path=\"sklearn-model\")"
   ]
  },
  {
   "cell_type": "markdown",
   "metadata": {},
   "source": [
    "## Adding tags"
   ]
  },
  {
   "cell_type": "code",
   "execution_count": null,
   "metadata": {},
   "outputs": [],
   "source": [
    "experiment_name = \"/Shared/Experiments/01 - Introduction to MLflow - 3\"\n",
    "experiment_id = mlflow.create_experiment(name=experiment_name, tags={\"topic\":\"experiment_management\", \"project_name\":\"UNKNOWN\"})"
   ]
  },
  {
   "cell_type": "code",
   "execution_count": null,
   "metadata": {},
   "outputs": [],
   "source": [
    "# Set the experiment  \"/Shared/Experiments/01 - Introduction to MLflow - 3\" as active experiment\n",
    "experiment = mlflow.set_experiment(experiment_name)"
   ]
  },
  {
   "cell_type": "code",
   "execution_count": null,
   "metadata": {},
   "outputs": [],
   "source": [
    "# get the artifact location\n",
    "experiment.artifact_location"
   ]
  },
  {
   "cell_type": "code",
   "execution_count": null,
   "metadata": {},
   "outputs": [],
   "source": [
    "# demo run\n",
    "from sklearn.ensemble import RandomForestClassifier\n",
    "\n",
    "rfc = RandomForestClassifier(n_estimators=10)\n",
    "\n",
    "with mlflow.start_run(run_name=\"first-run\") as run:\n",
    "    mlflow.log_param(\"param1\", 5)\n",
    "    mlflow.sklearn.log_model(sk_model=rfc, artifact_path=\"sklearn-model\")"
   ]
  },
  {
   "cell_type": "code",
   "execution_count": null,
   "metadata": {},
   "outputs": [],
   "source": [
    "# we can use tags to search a specific experiment\n",
    "experiments = mlflow.search_experiments(filter_string=\"tags.topic = 'experiment_management'\")"
   ]
  },
  {
   "cell_type": "code",
   "execution_count": null,
   "metadata": {},
   "outputs": [],
   "source": [
    "for experiment in experiments:\n",
    "    print_experiment_info(experiment)"
   ]
  },
  {
   "cell_type": "markdown",
   "metadata": {},
   "source": [
    "## Adding a description"
   ]
  },
  {
   "cell_type": "code",
   "execution_count": null,
   "metadata": {},
   "outputs": [],
   "source": [
    "experiment_name = \"/Shared/Experiments/01 - Introduction to MLflow - 4\"\n",
    "experiment_id = mlflow.create_experiment(name=experiment_name, tags={\"topic\":\"experiment_management\", \"project_name\":\"UNKNOWN\", \"mlflow.note.content\":\"This is a test experiment\"})"
   ]
  },
  {
   "cell_type": "code",
   "execution_count": null,
   "metadata": {},
   "outputs": [],
   "source": [
    "# Set the experiment  \"/Shared/Experiments/01 - Introduction to MLflow - 4\" as active experiment\n",
    "experiment = mlflow.set_experiment(experiment_name)"
   ]
  },
  {
   "cell_type": "markdown",
   "metadata": {},
   "source": [
    "## Update Tags"
   ]
  },
  {
   "cell_type": "code",
   "execution_count": null,
   "metadata": {},
   "outputs": [],
   "source": [
    "tags = {\n",
    "    \"tag1\": \"value1\",\n",
    "    \"tag2\": \"value2\"\n",
    "}\n",
    "mlflow.set_experiment_tags(tags=tags)\n"
   ]
  },
  {
   "cell_type": "code",
   "execution_count": null,
   "metadata": {},
   "outputs": [],
   "source": [
    "experiments = mlflow.search_experiments(filter_string=\"tags.tag1 = 'value1'\")\n",
    "for experiment in experiments:\n",
    "    print_experiment_info(experiment)"
   ]
  },
  {
   "cell_type": "code",
   "execution_count": null,
   "metadata": {},
   "outputs": [],
   "source": [
    "# Update Value of tag1\n",
    "mlflow.set_experiment_tag(key=\"tag1\", value=\"new_value1\")"
   ]
  },
  {
   "cell_type": "code",
   "execution_count": null,
   "metadata": {},
   "outputs": [],
   "source": [
    "# now works only if we provide the new value \"new_value1\"\n",
    "experiments = mlflow.search_experiments(filter_string=\"tags.tag1 = 'new_value1'\")\n",
    "for experiment in experiments:\n",
    "    print_experiment_info(experiment)"
   ]
  },
  {
   "cell_type": "markdown",
   "metadata": {},
   "source": [
    "## Using the client to set a tag"
   ]
  },
  {
   "cell_type": "code",
   "execution_count": null,
   "metadata": {},
   "outputs": [],
   "source": [
    "client = mlflow.MlflowClient()"
   ]
  },
  {
   "cell_type": "code",
   "execution_count": null,
   "metadata": {},
   "outputs": [],
   "source": [
    "client.set_experiment_tag(experiment_id = experiment.experiment_id, key=\"tag3\", value=\"value3\")"
   ]
  },
  {
   "cell_type": "code",
   "execution_count": null,
   "metadata": {},
   "outputs": [],
   "source": [
    "# Check if the tag is deleted\n",
    "experiments = mlflow.search_experiments(filter_string=\"tags.tag3 = 'value3'\")\n",
    "for experiment in experiments:\n",
    "    print_experiment_info(experiment)"
   ]
  },
  {
   "cell_type": "markdown",
   "metadata": {},
   "source": [
    "## Rename Experiment"
   ]
  },
  {
   "cell_type": "code",
   "execution_count": null,
   "metadata": {},
   "outputs": [],
   "source": [
    "new_name = \"/Shared/Experiments/01 - Introduction to MLflow - 4 - Renamed\"\n",
    "client.rename_experiment(experiment_id = experiment.experiment_id, new_name=new_name)"
   ]
  },
  {
   "cell_type": "markdown",
   "metadata": {},
   "source": [
    "## Clean Up"
   ]
  },
  {
   "cell_type": "code",
   "execution_count": null,
   "metadata": {},
   "outputs": [],
   "source": [
    "experiments = mlflow.search_experiments(filter_string=\"name LIKE '/Shared/Experiments%'\")\n",
    "# experiments = mlflow.search_experiments()\n",
    "for experiment in experiments:\n",
    "    print(f\"Deleting: {experiment.name}\")\n",
    "    # mlflow.delete_experiment(experiment.experiment_id)\n"
   ]
  },
  {
   "cell_type": "code",
   "execution_count": null,
   "metadata": {},
   "outputs": [],
   "source": []
  }
 ],
 "metadata": {
  "kernelspec": {
   "display_name": ".venv",
   "language": "python",
   "name": "python3"
  },
  "language_info": {
   "codemirror_mode": {
    "name": "ipython",
    "version": 3
   },
   "file_extension": ".py",
   "mimetype": "text/x-python",
   "name": "python",
   "nbconvert_exporter": "python",
   "pygments_lexer": "ipython3",
   "version": "3.11.8"
  }
 },
 "nbformat": 4,
 "nbformat_minor": 2
}
