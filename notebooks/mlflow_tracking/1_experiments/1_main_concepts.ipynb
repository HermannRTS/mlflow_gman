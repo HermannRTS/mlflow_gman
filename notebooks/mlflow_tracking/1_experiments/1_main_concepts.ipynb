{
 "cells": [
  {
   "cell_type": "markdown",
   "metadata": {},
   "source": [
    "# MLflow Tracking\n",
    "\n",
    "The MLflow Tracking is an API and UI for logging parameters, code versions, metrics, and output files when running your machine learning code and for later visualizing the results.\n",
    "\n",
    "## Concepts\n",
    "\n",
    "![Taken from MLflow Docs](https://mlflow.org/docs/latest/_images/tracking-basics.png)\n",
    "\n",
    "**Runs**\n",
    "\n",
    "MLflow Tracking is organized around the concept of runs, which are executions of some piece of data science code, for example, a single python train.py execution.\n",
    "\n",
    "\n",
    "**Experiments** \n",
    "\n",
    "An experiment groups together runs for a specific task. \n",
    "\n",
    "\n"
   ]
  },
  {
   "cell_type": "code",
   "execution_count": 1,
   "metadata": {},
   "outputs": [
    {
     "name": "stderr",
     "output_type": "stream",
     "text": [
      "2024/05/25 23:00:00 INFO mlflow.utils.credentials: Successfully connected to MLflow hosted tracking server! Host: https://adb-3088650010345545.5.azuredatabricks.net.\n"
     ]
    }
   ],
   "source": [
    "import mlflow\n",
    "mlflow.login()"
   ]
  },
  {
   "cell_type": "code",
   "execution_count": 2,
   "metadata": {},
   "outputs": [
    {
     "data": {
      "text/plain": [
       "'databricks'"
      ]
     },
     "execution_count": 2,
     "metadata": {},
     "output_type": "execute_result"
    }
   ],
   "source": [
    "mlflow.get_tracking_uri()"
   ]
  },
  {
   "cell_type": "markdown",
   "metadata": {},
   "source": [
    "# Create an experiment\n",
    "\n",
    "To create an experiment in Databricks the name should be a path in the Workspace, example: /Shared/Users/..."
   ]
  },
  {
   "cell_type": "code",
   "execution_count": 3,
   "metadata": {
    "tags": []
   },
   "outputs": [],
   "source": [
    "experiment_name = \"/Shared/Experiments/01 - Introduction to MLflow - 1\""
   ]
  },
  {
   "cell_type": "markdown",
   "metadata": {},
   "source": [
    "The path must exist before creating the experiment. "
   ]
  },
  {
   "cell_type": "code",
   "execution_count": 4,
   "metadata": {},
   "outputs": [],
   "source": [
    "from mlflow_for_ml_dev.experiments.exp_utils import print_experiment_info"
   ]
  },
  {
   "cell_type": "code",
   "execution_count": 5,
   "metadata": {},
   "outputs": [
    {
     "name": "stdout",
     "output_type": "stream",
     "text": [
      "2631591499706434\n"
     ]
    }
   ],
   "source": [
    "experiment_id = mlflow.create_experiment(name=experiment_name)\n",
    "print(experiment_id)"
   ]
  },
  {
   "cell_type": "code",
   "execution_count": 6,
   "metadata": {},
   "outputs": [],
   "source": [
    "# Set the experiment  \"/Shared/Experiments/01 - Introduction to MLflow\" as active experiment\n",
    "experiment = mlflow.set_experiment(experiment_name)"
   ]
  },
  {
   "cell_type": "code",
   "execution_count": 7,
   "metadata": {},
   "outputs": [
    {
     "data": {
      "text/plain": [
       "'dbfs:/databricks/mlflow-tracking/2631591499706434'"
      ]
     },
     "execution_count": 7,
     "metadata": {},
     "output_type": "execute_result"
    }
   ],
   "source": [
    "# get the artifact location\n",
    "experiment.artifact_location"
   ]
  },
  {
   "cell_type": "code",
   "execution_count": 8,
   "metadata": {},
   "outputs": [
    {
     "name": "stderr",
     "output_type": "stream",
     "text": [
      "2024/05/25 23:00:06 WARNING mlflow.models.model: Model logged without a signature. Signatures will be required for upcoming model registry features as they validate model inputs and denote the expected schema of model outputs. Please visit https://www.mlflow.org/docs/2.12.1/models.html#set-signature-on-logged-model for instructions on setting a model signature on your logged model.\n"
     ]
    }
   ],
   "source": [
    "# demo run\n",
    "\n",
    "from sklearn.ensemble import RandomForestClassifier\n",
    "\n",
    "rfc = RandomForestClassifier(n_estimators=10)\n",
    "\n",
    "with mlflow.start_run(run_name=\"first-run\") as run:\n",
    "    mlflow.log_param(\"param1\", 5)\n",
    "    mlflow.sklearn.log_model(sk_model=rfc, artifact_path=\"sklearn-model\")"
   ]
  },
  {
   "cell_type": "markdown",
   "metadata": {},
   "source": [
    "An experiment can also be created by using `mlflow.set_experiment(experiment_name)`. If the experiment does not exist mlflow creates an experiment using the provided name. Since the `experiment_name` is a path in the workspace is necessary to ensure that the folder structure exists before creating the experiment"
   ]
  },
  {
   "cell_type": "markdown",
   "metadata": {},
   "source": [
    "## Specifying Artifact Location"
   ]
  },
  {
   "cell_type": "code",
   "execution_count": 9,
   "metadata": {},
   "outputs": [],
   "source": [
    "experiment_name = \"/Shared/Experiments/01 - Introduction to MLflow - 2\"\n",
    "experiment_id = mlflow.create_experiment(name=experiment_name, artifact_location=\"dbfs:/FileStore/mlflow-experiments\")"
   ]
  },
  {
   "cell_type": "code",
   "execution_count": 10,
   "metadata": {},
   "outputs": [],
   "source": [
    "# Set the experiment  \"/Shared/Experiments/01 - Introduction to MLflow - 2\" as active experiment\n",
    "experiment = mlflow.set_experiment(experiment_name)"
   ]
  },
  {
   "cell_type": "code",
   "execution_count": 11,
   "metadata": {},
   "outputs": [
    {
     "data": {
      "text/plain": [
       "'dbfs:/FileStore/mlflow-experiments'"
      ]
     },
     "execution_count": 11,
     "metadata": {},
     "output_type": "execute_result"
    }
   ],
   "source": [
    "# get the artifact location\n",
    "experiment.artifact_location"
   ]
  },
  {
   "cell_type": "code",
   "execution_count": 12,
   "metadata": {},
   "outputs": [
    {
     "name": "stderr",
     "output_type": "stream",
     "text": [
      "c:\\Users\\manue\\projects\\mlflow_for_ml_dev\\.venv\\Lib\\site-packages\\_distutils_hack\\__init__.py:11: UserWarning: Distutils was imported before Setuptools, but importing Setuptools also replaces the `distutils` module in `sys.modules`. This may lead to undesirable behaviors or errors. To avoid these issues, avoid using distutils directly, ensure that setuptools is installed in the traditional way (e.g. not an editable install), and/or make sure that setuptools is always imported before distutils.\n",
      "  warnings.warn(\n",
      "c:\\Users\\manue\\projects\\mlflow_for_ml_dev\\.venv\\Lib\\site-packages\\_distutils_hack\\__init__.py:26: UserWarning: Setuptools is replacing distutils.\n",
      "  warnings.warn(\"Setuptools is replacing distutils.\")\n",
      "2024/05/25 23:00:13 WARNING mlflow.models.model: Model logged without a signature. Signatures will be required for upcoming model registry features as they validate model inputs and denote the expected schema of model outputs. Please visit https://www.mlflow.org/docs/2.12.1/models.html#set-signature-on-logged-model for instructions on setting a model signature on your logged model.\n"
     ]
    }
   ],
   "source": [
    "# demo run\n",
    "from sklearn.ensemble import RandomForestClassifier\n",
    "\n",
    "rfc = RandomForestClassifier(n_estimators=10)\n",
    "\n",
    "with mlflow.start_run(run_name=\"first-run\") as run:\n",
    "    mlflow.log_param(\"param1\", 5)\n",
    "    mlflow.sklearn.log_model(sk_model=rfc, artifact_path=\"sklearn-model\")"
   ]
  },
  {
   "cell_type": "markdown",
   "metadata": {},
   "source": [
    "## Adding tags"
   ]
  },
  {
   "cell_type": "code",
   "execution_count": 13,
   "metadata": {},
   "outputs": [],
   "source": [
    "experiment_name = \"/Shared/Experiments/01 - Introduction to MLflow - 3\"\n",
    "experiment_id = mlflow.create_experiment(\n",
    "    name=experiment_name,\n",
    "    tags={\"topic\":\"experiment_management\", \"project_name\":\"UNKNOWN\"}\n",
    ")\n",
    "\n",
    "# Set the experiment  \"/Shared/Experiments/01 - Introduction to MLflow - 3\" as active experiment\n",
    "experiment = mlflow.set_experiment(experiment_name)"
   ]
  },
  {
   "cell_type": "code",
   "execution_count": 15,
   "metadata": {},
   "outputs": [
    {
     "data": {
      "text/plain": [
       "'dbfs:/databricks/mlflow-tracking/2631591499706436'"
      ]
     },
     "execution_count": 15,
     "metadata": {},
     "output_type": "execute_result"
    }
   ],
   "source": [
    "# get the experiment tags\n",
    "experiment.tags"
   ]
  },
  {
   "cell_type": "markdown",
   "metadata": {},
   "source": [
    "## Adding a description"
   ]
  },
  {
   "cell_type": "code",
   "execution_count": 19,
   "metadata": {},
   "outputs": [],
   "source": [
    "experiment_name = \"/Shared/Experiments/01 - Introduction to MLflow - 4\"\n",
    "experiment_id = mlflow.create_experiment(\n",
    "    name=experiment_name,\n",
    "    tags={\n",
    "        \"topic\":\"experiment_management\",\n",
    "        \"project_name\":\"UNKNOWN\",\n",
    "        \"mlflow.note.content\":\"This is a test experiment\"})"
   ]
  },
  {
   "cell_type": "code",
   "execution_count": 20,
   "metadata": {},
   "outputs": [],
   "source": [
    "# Set the experiment  \"/Shared/Experiments/01 - Introduction to MLflow - 4\" as active experiment\n",
    "experiment = mlflow.set_experiment(experiment_name)"
   ]
  },
  {
   "cell_type": "code",
   "execution_count": null,
   "metadata": {},
   "outputs": [],
   "source": [
    "# get the experiment tags\n",
    "experiment.tags"
   ]
  },
  {
   "cell_type": "markdown",
   "metadata": {},
   "source": [
    "## Update Tags"
   ]
  },
  {
   "cell_type": "code",
   "execution_count": null,
   "metadata": {},
   "outputs": [],
   "source": [
    "experiment_name = \"/Shared/Experiments/01 - Introduction to MLflow - 4\"\n",
    "experiment = mlflow.set_experiment(experiment_name)"
   ]
  },
  {
   "cell_type": "code",
   "execution_count": 21,
   "metadata": {},
   "outputs": [],
   "source": [
    "tags = {\n",
    "    \"tag1\": \"value1\",\n",
    "    \"tag2\": \"value2\"\n",
    "}\n",
    "mlflow.set_experiment_tags(tags=tags)\n"
   ]
  },
  {
   "cell_type": "code",
   "execution_count": null,
   "metadata": {},
   "outputs": [],
   "source": [
    "# get the updated experiment object\n",
    "experiment = mlflow.set_experiment(experiment_name)\n",
    "\n",
    "# get the experiment tags\n",
    "experiment.tags"
   ]
  },
  {
   "cell_type": "code",
   "execution_count": 23,
   "metadata": {},
   "outputs": [],
   "source": [
    "# Update Value of tag1\n",
    "mlflow.set_experiment_tag(key=\"tag1\", value=\"new_value1\")\n",
    "\n",
    "# get the updated experiment object\n",
    "experiment = mlflow.set_experiment(experiment_name)"
   ]
  },
  {
   "cell_type": "code",
   "execution_count": null,
   "metadata": {},
   "outputs": [],
   "source": [
    "# get the experiment tags\n",
    "experiment.tags"
   ]
  },
  {
   "cell_type": "markdown",
   "metadata": {},
   "source": [
    "## Using the client to set a tag"
   ]
  },
  {
   "cell_type": "code",
   "execution_count": 25,
   "metadata": {},
   "outputs": [],
   "source": [
    "client = mlflow.MlflowClient()"
   ]
  },
  {
   "cell_type": "code",
   "execution_count": null,
   "metadata": {},
   "outputs": [],
   "source": [
    "experiment.name"
   ]
  },
  {
   "cell_type": "code",
   "execution_count": 26,
   "metadata": {},
   "outputs": [],
   "source": [
    "client.set_experiment_tag(experiment_id = experiment.experiment_id, key=\"tag3\", value=\"value3\")"
   ]
  },
  {
   "cell_type": "code",
   "execution_count": null,
   "metadata": {},
   "outputs": [],
   "source": [
    "experiment = mlflow.set_experiment(experiment_name)\n",
    "\n",
    "# get the experiment tags\n",
    "experiment.tags"
   ]
  },
  {
   "cell_type": "markdown",
   "metadata": {},
   "source": [
    "## Rename Experiment"
   ]
  },
  {
   "cell_type": "code",
   "execution_count": 28,
   "metadata": {},
   "outputs": [],
   "source": [
    "new_name = \"/Shared/Experiments/01 - Introduction to MLflow - 4 - Renamed\"\n",
    "client.rename_experiment(experiment_id = experiment.experiment_id, new_name=new_name)"
   ]
  },
  {
   "cell_type": "code",
   "execution_count": null,
   "metadata": {},
   "outputs": [],
   "source": [
    "experiment = mlflow.set_experiment(new_name)\n",
    "\n",
    "experiment.name"
   ]
  },
  {
   "cell_type": "markdown",
   "metadata": {},
   "source": [
    "## Clean Up"
   ]
  },
  {
   "cell_type": "code",
   "execution_count": 30,
   "metadata": {},
   "outputs": [
    {
     "name": "stdout",
     "output_type": "stream",
     "text": [
      "Deleting: /Shared/Experiments/01 - Introduction to MLflow - 4 - Renamed\n",
      "Deleting: /Shared/Experiments/01 - Introduction to MLflow - 3\n",
      "Deleting: /Shared/Experiments/01 - Introduction to MLflow - 2\n",
      "Deleting: /Shared/Experiments/01 - Introduction to MLflow - 1\n"
     ]
    }
   ],
   "source": [
    "experiments = mlflow.search_experiments(filter_string=\"name LIKE '/Shared/Experiments%'\")\n",
    "# experiments = mlflow.search_experiments()\n",
    "for experiment in experiments:\n",
    "    print(f\"Deleting: {experiment.name}\")\n",
    "    mlflow.delete_experiment(experiment.experiment_id)\n"
   ]
  },
  {
   "cell_type": "code",
   "execution_count": null,
   "metadata": {},
   "outputs": [],
   "source": []
  }
 ],
 "metadata": {
  "kernelspec": {
   "display_name": ".venv",
   "language": "python",
   "name": "python3"
  },
  "language_info": {
   "codemirror_mode": {
    "name": "ipython",
    "version": 3
   },
   "file_extension": ".py",
   "mimetype": "text/x-python",
   "name": "python",
   "nbconvert_exporter": "python",
   "pygments_lexer": "ipython3",
   "version": "3.11.8"
  }
 },
 "nbformat": 4,
 "nbformat_minor": 2
}
