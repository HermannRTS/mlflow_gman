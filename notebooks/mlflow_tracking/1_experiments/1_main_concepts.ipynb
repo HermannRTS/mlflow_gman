{
 "cells": [
  {
   "cell_type": "markdown",
   "metadata": {},
   "source": [
    "# MLflow Tracking\n",
    "\n",
    "The MLflow Tracking is an API and UI for logging parameters, code versions, metrics, and output files when running your machine learning code and for later visualizing the results.\n",
    "\n",
    "## Concepts\n",
    "\n",
    "![Taken from MLflow Docs](https://mlflow.org/docs/latest/_images/tracking-basics.png)\n",
    "\n",
    "**Runs**\n",
    "\n",
    "MLflow Tracking is organized around the concept of runs, which are executions of some piece of data science code, for example, a single python train.py execution.\n",
    "\n",
    "\n",
    "**Experiments** \n",
    "\n",
    "An experiment groups together runs for a specific task. \n",
    "\n",
    "\n"
   ]
  },
  {
   "cell_type": "markdown",
   "metadata": {},
   "source": [
    "## Set Tracking URI\n",
    "\n",
    "Set the tracking server URI. \n",
    "\n",
    "`mlflow.set_tracking_uri(uri: Union[str, pathlib.Path]) → None[source]`\n",
    "\n",
    "Parameters:\n",
    "* uri:\n",
    "\n",
    "    * An empty string, or a local file path, prefixed with file:/. Data is stored locally at the provided file (or ./mlruns if empty).\n",
    "\n",
    "    * An HTTP URI like https://my-tracking-server:5000.\n",
    "\n",
    "    * A Databricks workspace, provided as the string “databricks”\n",
    "\n",
    "    * A pathlib.Path instance"
   ]
  },
  {
   "cell_type": "code",
   "execution_count": null,
   "metadata": {},
   "outputs": [],
   "source": [
    "from mlflow_for_ml_dev.utils.utils import get_root_project\n",
    "import mlflow"
   ]
  },
  {
   "cell_type": "code",
   "execution_count": null,
   "metadata": {},
   "outputs": [],
   "source": [
    "root_folder = get_root_project()\n",
    "print(root_folder)"
   ]
  },
  {
   "cell_type": "code",
   "execution_count": null,
   "metadata": {},
   "outputs": [],
   "source": [
    "tracking_uri = (root_folder / \"mlruns\").as_uri()\n",
    "print(tracking_uri)\n"
   ]
  },
  {
   "cell_type": "code",
   "execution_count": null,
   "metadata": {},
   "outputs": [],
   "source": [
    "mlflow.set_tracking_uri(tracking_uri)"
   ]
  },
  {
   "cell_type": "markdown",
   "metadata": {},
   "source": [
    "## Default Experiment"
   ]
  },
  {
   "cell_type": "code",
   "execution_count": null,
   "metadata": {
    "tags": []
   },
   "outputs": [],
   "source": [
    "client = mlflow.MlflowClient()\n",
    "experiments = client.search_experiments()\n",
    "print(experiments)"
   ]
  },
  {
   "cell_type": "code",
   "execution_count": null,
   "metadata": {},
   "outputs": [],
   "source": [
    "experiments[0].to_proto()"
   ]
  }
 ],
 "metadata": {
  "kernelspec": {
   "display_name": ".venv",
   "language": "python",
   "name": "python3"
  },
  "language_info": {
   "codemirror_mode": {
    "name": "ipython",
    "version": 3
   },
   "file_extension": ".py",
   "mimetype": "text/x-python",
   "name": "python",
   "nbconvert_exporter": "python",
   "pygments_lexer": "ipython3",
   "version": "3.11.8"
  }
 },
 "nbformat": 4,
 "nbformat_minor": 2
}
