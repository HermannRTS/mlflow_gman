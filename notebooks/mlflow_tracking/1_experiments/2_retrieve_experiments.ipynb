{
 "cells": [
  {
   "cell_type": "markdown",
   "metadata": {},
   "source": [
    "# MLflow Experiments\n",
    "\n",
    "While MLflow does provide a default experiment, it primarily serves as a ‘catch-all’ safety net for runs initiated without a specified active experiment. However, it’s not recommended for regular use. Instead, creating unique experiments for specific collections of runs offers numerous advantages."
   ]
  },
  {
   "cell_type": "code",
   "execution_count": 2,
   "metadata": {},
   "outputs": [],
   "source": [
    "import mlflow \n",
    "from mlflow_for_ml_dev.experiments.exp_utils import print_experiment_info"
   ]
  },
  {
   "cell_type": "code",
   "execution_count": 3,
   "metadata": {},
   "outputs": [
    {
     "name": "stderr",
     "output_type": "stream",
     "text": [
      "2024/05/25 22:41:45 INFO mlflow.utils.credentials: Successfully connected to MLflow hosted tracking server! Host: https://adb-3088650010345545.5.azuredatabricks.net.\n"
     ]
    }
   ],
   "source": [
    "mlflow.login()"
   ]
  },
  {
   "cell_type": "code",
   "execution_count": 5,
   "metadata": {},
   "outputs": [],
   "source": [
    "experiment_name = \"/Shared/Experiments/first_experiment\"\n",
    "tags = {\"project_name\":\"UNKNOWN\", \"topic\":\"experiment_management\"}\n",
    "experiment_id = mlflow.create_experiment(experiment_name, tags=tags)\n",
    "experiment = mlflow.get_experiment_by_name(experiment_name)"
   ]
  },
  {
   "cell_type": "code",
   "execution_count": 6,
   "metadata": {},
   "outputs": [
    {
     "name": "stdout",
     "output_type": "stream",
     "text": [
      "\n",
      " Experiment Information \n",
      "\n",
      "Name: /Shared/Experiments/first_experiment\n",
      "Experiment_id: 3008096576834440\n",
      "Artifact Location: dbfs:/databricks/mlflow-tracking/3008096576834440\n",
      "Tags: {'mlflow.ownerId': '8443236376042681', 'project_name': 'UNKNOWN', 'topic': 'experiment_management', 'mlflow.experiment.sourceName': '/Shared/Experiments/first_experiment', 'mlflow.ownerEmail': 'manuel.gil-m@outlook.com', 'mlflow.experimentType': 'MLFLOW_EXPERIMENT'}\n",
      "Lifecycle_stage: active\n",
      "\n",
      " \n",
      "\n"
     ]
    }
   ],
   "source": [
    "print_experiment_info(experiment)"
   ]
  },
  {
   "cell_type": "markdown",
   "metadata": {},
   "source": [
    "## Retrieving Experiments"
   ]
  },
  {
   "cell_type": "markdown",
   "metadata": {},
   "source": [
    "### Get Experiment\n",
    "\n",
    "`get_experiment(experiment_id: str) → Experiment`\n",
    "\n",
    "Retrieve an experiment by experiment_id from the backend store\n",
    "\n",
    "Parameters:\n",
    "\n",
    "* experiment_id – The experiment ID returned from create_experiment.\n",
    "\n",
    "Returns:\n",
    "\n",
    "* mlflow.entities.Experiment\n"
   ]
  },
  {
   "cell_type": "code",
   "execution_count": 7,
   "metadata": {},
   "outputs": [
    {
     "name": "stdout",
     "output_type": "stream",
     "text": [
      "\n",
      " Experiment Information \n",
      "\n",
      "Name: /Shared/Experiments/first_experiment\n",
      "Experiment_id: 3008096576834440\n",
      "Artifact Location: dbfs:/databricks/mlflow-tracking/3008096576834440\n",
      "Tags: {'mlflow.ownerId': '8443236376042681', 'project_name': 'UNKNOWN', 'topic': 'experiment_management', 'mlflow.experiment.sourceName': '/Shared/Experiments/first_experiment', 'mlflow.ownerEmail': 'manuel.gil-m@outlook.com', 'mlflow.experimentType': 'MLFLOW_EXPERIMENT'}\n",
      "Lifecycle_stage: active\n",
      "\n",
      " \n",
      "\n"
     ]
    }
   ],
   "source": [
    "experiment = mlflow.get_experiment(experiment_id=experiment.experiment_id)\n",
    "print_experiment_info(experiment)"
   ]
  },
  {
   "cell_type": "markdown",
   "metadata": {},
   "source": [
    "### Get Experiment by name\n",
    "\n",
    "`get_experiment_by_name(name: str) → Optional[Experiment]`\n",
    "\n",
    "Retrieve an experiment by experiment name from the backend store\n",
    "\n",
    "Parameters:\n",
    "\n",
    "* name – The case sensitive experiment name.\n",
    "\n",
    "Returns:\n",
    "\n",
    "* An instance of mlflow.entities.Experiment if an experiment with the specified name exists, otherwise None.\n"
   ]
  },
  {
   "cell_type": "code",
   "execution_count": 8,
   "metadata": {},
   "outputs": [
    {
     "name": "stdout",
     "output_type": "stream",
     "text": [
      "\n",
      " Experiment Information \n",
      "\n",
      "Name: /Shared/Experiments/first_experiment\n",
      "Experiment_id: 3008096576834440\n",
      "Artifact Location: dbfs:/databricks/mlflow-tracking/3008096576834440\n",
      "Tags: {'mlflow.ownerId': '8443236376042681', 'project_name': 'UNKNOWN', 'topic': 'experiment_management', 'mlflow.experiment.sourceName': '/Shared/Experiments/first_experiment', 'mlflow.ownerEmail': 'manuel.gil-m@outlook.com', 'mlflow.experimentType': 'MLFLOW_EXPERIMENT'}\n",
      "Lifecycle_stage: active\n",
      "\n",
      " \n",
      "\n"
     ]
    }
   ],
   "source": [
    "experiment = mlflow.get_experiment_by_name(name=experiment_name)\n",
    "print_experiment_info(experiment)"
   ]
  },
  {
   "cell_type": "markdown",
   "metadata": {},
   "source": [
    "## Clean Up"
   ]
  },
  {
   "cell_type": "code",
   "execution_count": 12,
   "metadata": {},
   "outputs": [
    {
     "name": "stdout",
     "output_type": "stream",
     "text": [
      "Deleting: /Shared/Experiments/first_experiment\n"
     ]
    }
   ],
   "source": [
    "experiments = mlflow.search_experiments(filter_string=\"name LIKE '/Shared/Experiments%'\")\n",
    "for experiment in experiments:\n",
    "    print(f\"Deleting: {experiment.name}\")\n",
    "    mlflow.delete_experiment(experiment.experiment_id)\n"
   ]
  },
  {
   "cell_type": "code",
   "execution_count": null,
   "metadata": {},
   "outputs": [],
   "source": [
    "def man():\n",
    "    "
   ]
  }
 ],
 "metadata": {
  "kernelspec": {
   "display_name": ".venv",
   "language": "python",
   "name": "python3"
  },
  "language_info": {
   "codemirror_mode": {
    "name": "ipython",
    "version": 3
   },
   "file_extension": ".py",
   "mimetype": "text/x-python",
   "name": "python",
   "nbconvert_exporter": "python",
   "pygments_lexer": "ipython3",
   "version": "3.11.8"
  }
 },
 "nbformat": 4,
 "nbformat_minor": 2
}
