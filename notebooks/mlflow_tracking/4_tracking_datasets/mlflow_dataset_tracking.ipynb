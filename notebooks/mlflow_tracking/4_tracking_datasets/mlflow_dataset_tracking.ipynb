{
 "cells": [
  {
   "cell_type": "markdown",
   "metadata": {},
   "source": [
    "# MLflow Dataset Tracking Tutorial\n",
    "\n",
    "The `mlflow.data` module is an integral part of the MLflow ecosystem, designed to enhance your machine learning workflow. This module enables you to record and retrieve dataset information during model training and evaluation, leveraging MLflow’s tracking capabilities.\n",
    "\n"
   ]
  },
  {
   "cell_type": "markdown",
   "metadata": {},
   "source": [
    "## Dataset\n",
    "\n",
    "The Dataset abstraction is a metadata tracking object that holds the information about a given logged dataset.\n",
    "\n",
    "The information stored within a Dataset object includes features, targets, and predictions, along with metadata like the dataset’s name, digest (hash), schema, and profile. You can log this metadata using the mlflow.log_input() API. The module provides functions to construct mlflow.data.dataset.Dataset objects from various data types.\n",
    "\n",
    "There are a number of concrete implementations of this abstract class, including:\n",
    "\n",
    "* mlflow.data.spark_dataset.SparkDataset\n",
    "\n",
    "* mlflow.data.pandas_dataset.PandasDataset\n",
    "\n",
    "* mlflow.data.numpy_dataset.NumpyDataset\n",
    "\n",
    "* mlflow.data.huggingface_dataset.HuggingFaceDataset\n",
    "\n",
    "* mlflow.data.spark_dataset.SparkDataset\n",
    "\n",
    "* mlflow.data.tensorflow_dataset.TensorFlowDataset"
   ]
  },
  {
   "cell_type": "code",
   "execution_count": 1,
   "metadata": {},
   "outputs": [
    {
     "name": "stderr",
     "output_type": "stream",
     "text": [
      "2024/06/15 22:27:31 INFO mlflow.utils.credentials: Successfully connected to MLflow hosted tracking server! Host: https://adb-3088650010345545.5.azuredatabricks.net.\n"
     ]
    }
   ],
   "source": [
    "import mlflow \n",
    "mlflow.login()"
   ]
  },
  {
   "cell_type": "code",
   "execution_count": 2,
   "metadata": {},
   "outputs": [],
   "source": [
    "name = \"/Shared/Experiments/tracking-datasets\"\n",
    "try:\n",
    "    experiment = mlflow.create_experiment(\n",
    "        name=name,\n",
    "        tags={\n",
    "            \"mlflow.note.content\": \"Tracking dataset tutorial\",\n",
    "            \"project_name\":\"UNKNOWN\",\n",
    "            \"topic\": \"run_management\",\n",
    "        }\n",
    "    )\n",
    "except:\n",
    "    print(\"Experiment already exists\")\n",
    "    experiment = mlflow.get_experiment_by_name(name)\n",
    "\n",
    "experiment = mlflow.set_experiment(name)"
   ]
  },
  {
   "cell_type": "code",
   "execution_count": 3,
   "metadata": {},
   "outputs": [
    {
     "name": "stderr",
     "output_type": "stream",
     "text": [
      "c:\\Users\\manue\\projects\\mlflow_for_ml_dev\\.venv\\Lib\\site-packages\\mlflow\\data\\dataset_source_registry.py:150: UserWarning: Failed to determine whether UCVolumeDatasetSource can resolve source information for 'https://raw.githubusercontent.com/mlflow/mlflow/master/tests/datasets/winequality-white.csv'. Exception: \n",
      "  return _dataset_source_registry.resolve(\n",
      "c:\\Users\\manue\\projects\\mlflow_for_ml_dev\\.venv\\Lib\\site-packages\\mlflow\\data\\digest_utils.py:26: FutureWarning: DataFrame.applymap has been deprecated. Use DataFrame.map instead.\n",
      "  string_columns = trimmed_df.columns[(df.applymap(type) == str).all(0)]\n"
     ]
    }
   ],
   "source": [
    "import mlflow.data\n",
    "import pandas as pd\n",
    "from mlflow.data.pandas_dataset import PandasDataset\n",
    "\n",
    "\n",
    "dataset_source_url = \"https://raw.githubusercontent.com/mlflow/mlflow/master/tests/datasets/winequality-white.csv\"\n",
    "raw_data = pd.read_csv(dataset_source_url, delimiter=\";\")\n",
    "\n",
    "# Create an instance of a PandasDataset\n",
    "dataset = mlflow.data.from_pandas(\n",
    "    raw_data, source=dataset_source_url, name=\"wine quality - white\", targets=\"quality\"\n",
    ")"
   ]
  },
  {
   "cell_type": "code",
   "execution_count": 5,
   "metadata": {},
   "outputs": [
    {
     "data": {
      "text/plain": [
       "<mlflow.data.http_dataset_source.HTTPDatasetSource at 0x2413d630ed0>"
      ]
     },
     "execution_count": 5,
     "metadata": {},
     "output_type": "execute_result"
    }
   ],
   "source": [
    "dataset.source"
   ]
  },
  {
   "cell_type": "code",
   "execution_count": null,
   "metadata": {},
   "outputs": [],
   "source": []
  }
 ],
 "metadata": {
  "kernelspec": {
   "display_name": ".venv",
   "language": "python",
   "name": "python3"
  },
  "language_info": {
   "codemirror_mode": {
    "name": "ipython",
    "version": 3
   },
   "file_extension": ".py",
   "mimetype": "text/x-python",
   "name": "python",
   "nbconvert_exporter": "python",
   "pygments_lexer": "ipython3",
   "version": "3.11.8"
  }
 },
 "nbformat": 4,
 "nbformat_minor": 2
}
