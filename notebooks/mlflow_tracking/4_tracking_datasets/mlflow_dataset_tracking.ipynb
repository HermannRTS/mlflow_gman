{
 "cells": [
  {
   "cell_type": "markdown",
   "metadata": {},
   "source": [
    "# MLflow Dataset Tracking Tutorial\n",
    "\n",
    "The `mlflow.data` module is an integral part of the MLflow ecosystem, designed to enhance your machine learning workflow. This module enables you to record and retrieve dataset information during model training and evaluation, leveraging MLflow’s tracking capabilities.\n",
    "\n"
   ]
  },
  {
   "cell_type": "markdown",
   "metadata": {},
   "source": [
    "## Dataset\n",
    "\n",
    "The Dataset abstraction is a metadata tracking object that holds the information about a given logged dataset.\n",
    "\n",
    "The information stored within a Dataset object includes features, targets, and predictions, along with metadata like the dataset’s name, digest (hash), schema, and profile. You can log this metadata using the mlflow.log_input() API. The module provides functions to construct mlflow.data.dataset.Dataset objects from various data types.\n",
    "\n",
    "There are a number of concrete implementations of this abstract class, including:\n",
    "\n",
    "* mlflow.data.spark_dataset.SparkDataset\n",
    "\n",
    "* mlflow.data.pandas_dataset.PandasDataset\n",
    "\n",
    "* mlflow.data.numpy_dataset.NumpyDataset\n",
    "\n",
    "* mlflow.data.huggingface_dataset.HuggingFaceDataset\n",
    "\n",
    "* mlflow.data.spark_dataset.SparkDataset\n",
    "\n",
    "* mlflow.data.tensorflow_dataset.TensorFlowDataset"
   ]
  },
  {
   "cell_type": "code",
   "execution_count": null,
   "metadata": {},
   "outputs": [],
   "source": [
    "import mlflow\n",
    "mlflow.login()"
   ]
  },
  {
   "cell_type": "code",
   "execution_count": null,
   "metadata": {},
   "outputs": [],
   "source": [
    "name = \"/Shared/Experiments/tracking-datasets\"\n",
    "try:\n",
    "    experiment = mlflow.create_experiment(\n",
    "        name=name,\n",
    "        tags={\n",
    "            \"mlflow.note.content\": \"Tracking dataset tutorial\",\n",
    "            \"project_name\":\"UNKNOWN\",\n",
    "            \"topic\": \"run_management\",\n",
    "        }\n",
    "    )\n",
    "except:\n",
    "    print(\"Experiment already exists\")\n",
    "    experiment = mlflow.get_experiment_by_name(name)\n",
    "\n",
    "experiment = mlflow.set_experiment(name)"
   ]
  },
  {
   "cell_type": "code",
   "execution_count": null,
   "metadata": {},
   "outputs": [],
   "source": [
    "import mlflow.data\n",
    "import pandas as pd\n",
    "from mlflow.data.pandas_dataset import PandasDataset\n",
    "\n",
    "\n",
    "dataset_source_url = \"https://raw.githubusercontent.com/mlflow/mlflow/master/tests/datasets/winequality-white.csv\"\n",
    "raw_data = pd.read_csv(dataset_source_url, delimiter=\";\")\n",
    "\n",
    "# Create an instance of a PandasDataset\n",
    "dataset = mlflow.data.from_pandas(\n",
    "    raw_data, source=dataset_source_url, name=\"wine quality - white\", targets=\"quality\"\n",
    ")"
   ]
  },
  {
   "cell_type": "code",
   "execution_count": null,
   "metadata": {},
   "outputs": [],
   "source": [
    "dataset.df"
   ]
  },
  {
   "cell_type": "code",
   "execution_count": null,
   "metadata": {},
   "outputs": [],
   "source": [
    "# get the schema\n",
    "dataset.schema"
   ]
  },
  {
   "cell_type": "code",
   "execution_count": null,
   "metadata": {},
   "outputs": [],
   "source": [
    "#get the targets\n",
    "dataset.targets"
   ]
  },
  {
   "cell_type": "code",
   "execution_count": null,
   "metadata": {},
   "outputs": [],
   "source": [
    "# get the source\n",
    "dataset.source\n",
    "# dataset.source.url"
   ]
  },
  {
   "cell_type": "code",
   "execution_count": null,
   "metadata": {},
   "outputs": [],
   "source": [
    "# get predictions for model evaluation\n",
    "dataset.predictions"
   ]
  },
  {
   "cell_type": "code",
   "execution_count": null,
   "metadata": {},
   "outputs": [],
   "source": [
    "# log dataset\n",
    "with mlflow.start_run(run_name = \"logging_dataset\") as run:\n",
    "    mlflow.log_input(dataset=dataset, context=\"Testing\", tags={\"dataset_version\": \"v1\"})\n",
    "\n",
    "# get the run\n",
    "logged_run = mlflow.get_run(run.info.run_id)"
   ]
  },
  {
   "cell_type": "code",
   "execution_count": null,
   "metadata": {},
   "outputs": [],
   "source": [
    "logged_dataset = logged_run.inputs.dataset_inputs[0].dataset"
   ]
  },
  {
   "cell_type": "code",
   "execution_count": null,
   "metadata": {},
   "outputs": [],
   "source": [
    "# View some of the recorded Dataset information\n",
    "print(f\"Dataset name: {logged_dataset.name}\")\n",
    "print(f\"Dataset digest: {logged_dataset.digest}\")\n",
    "print(f\"Dataset profile: {logged_dataset.profile}\")\n",
    "print(f\"Dataset schema: {logged_dataset.schema}\")"
   ]
  },
  {
   "cell_type": "markdown",
   "metadata": {},
   "source": [
    "## Retrieving data"
   ]
  },
  {
   "cell_type": "code",
   "execution_count": null,
   "metadata": {},
   "outputs": [],
   "source": [
    "# Loading the dataset's source\n",
    "dataset_source = mlflow.data.get_source(logged_dataset)\n",
    "\n",
    "local_dataset = dataset_source.load()\n",
    "\n",
    "print(f\"The local file where the data has been downloaded to: {local_dataset}\")\n",
    "\n",
    "# Load the data again\n",
    "loaded_data = pd.read_csv(local_dataset, delimiter=\";\")"
   ]
  },
  {
   "cell_type": "code",
   "execution_count": null,
   "metadata": {},
   "outputs": [],
   "source": [
    "loaded_data"
   ]
  },
  {
   "cell_type": "code",
   "execution_count": null,
   "metadata": {},
   "outputs": [],
   "source": []
  }
 ],
 "metadata": {
  "kernelspec": {
   "display_name": ".venv",
   "language": "python",
   "name": "python3"
  },
  "language_info": {
   "codemirror_mode": {
    "name": "ipython",
    "version": 3
   },
   "file_extension": ".py",
   "mimetype": "text/x-python",
   "name": "python",
   "nbconvert_exporter": "python",
   "pygments_lexer": "ipython3",
   "version": "3.11.8"
  }
 },
 "nbformat": 4,
 "nbformat_minor": 2
}
